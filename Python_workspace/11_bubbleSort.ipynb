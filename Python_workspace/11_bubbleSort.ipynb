{
 "cells": [
  {
   "cell_type": "code",
   "execution_count": 5,
   "metadata": {},
   "outputs": [
    {
     "name": "stdout",
     "output_type": "stream",
     "text": [
      "[i = 0, j = 0][i = 0, j = 1][i = 0, j = 2][i = 0, j = 3]\n",
      "[i = 1, j = 0][i = 1, j = 1][i = 1, j = 2]\n",
      "[i = 2, j = 0][i = 2, j = 1]\n",
      "[i = 3, j = 0]\n"
     ]
    }
   ],
   "source": [
    "for i in range(4):\n",
    "    for j in range(4 - i):\n",
    "        print('[i = {}, j = {}]'.format(i, j), end = '')\n",
    "    print()"
   ]
  },
  {
   "cell_type": "code",
   "execution_count": 4,
   "metadata": {},
   "outputs": [
    {
     "name": "stdout",
     "output_type": "stream",
     "text": [
      "1회전 결과 : [3, 4, 8, 1, 9]\n",
      "2회전 결과 : [3, 4, 1, 8, 9]\n",
      "3회전 결과 : [3, 1, 4, 8, 9]\n",
      "4회전 결과 : [1, 3, 4, 8, 9]\n",
      "정렬 결과 : [1, 3, 4, 8, 9]\n"
     ]
    }
   ],
   "source": [
    "data = [8, 3, 4, 9, 1]\n",
    "for i in range(len(data) - 1): #회전수\n",
    "    for j in range(len(data) - 1 - i): #비교 대상이 되는 데이터의 위치\n",
    "        #오름차순 정렬 => 앞(j번째)의 데이터가 뒤(j + 1번째)의 데이터보다 크면 두 기억장소의 데이터를 교환한다.\n",
    "        if data[j] > data[j + 1]:\n",
    "            data[j], data[j + 1] = data[j + 1], data[j]\n",
    "    print('{}회전 결과 : {}'.format(i + 1, data))\n",
    "print('정렬 결과 : {}'.format(data))"
   ]
  },
  {
   "cell_type": "code",
   "execution_count": 6,
   "metadata": {},
   "outputs": [
    {
     "name": "stdout",
     "output_type": "stream",
     "text": [
      "1회전 결과 : [8, 4, 9, 3, 1]\n",
      "2회전 결과 : [8, 9, 4, 3, 1]\n",
      "3회전 결과 : [9, 8, 4, 3, 1]\n",
      "4회전 결과 : [9, 8, 4, 3, 1]\n",
      "정렬 결과 : [9, 8, 4, 3, 1]\n"
     ]
    }
   ],
   "source": [
    "data = [8, 3, 4, 9, 1]\n",
    "for i in range(len(data) - 1): #회전수\n",
    "    for j in range(len(data) - 1 - i): #비교 대상이 되는 데이터의 위치\n",
    "        if data[j] < data[j + 1]:\n",
    "            data[j], data[j + 1] = data[j + 1], data[j]\n",
    "    print('{}회전 결과 : {}'.format(i + 1, data))\n",
    "print('정렬 결과 : {}'.format(data))"
   ]
  },
  {
   "cell_type": "code",
   "execution_count": 6,
   "metadata": {},
   "outputs": [
    {
     "name": "stdout",
     "output_type": "stream",
     "text": [
      "1회전 결과 : [6, 5, 7, 4, 1]\n",
      "2회전 결과 : [6, 7, 5, 4, 1]\n",
      "3회전 결과 : [7, 6, 5, 4, 1]\n",
      "원래 4회전을 해야하지만 4회전 후 조기 종료됨.\n",
      "정렬 결과 : [7, 6, 5, 4, 1]\n"
     ]
    }
   ],
   "source": [
    "data = [6, 5, 4, 7, 1]\n",
    "for i in range(len(data) - 1):\n",
    "    #ⓐ 회전(정렬) 작업이 시작되기 전에 flag 변수를 선언하고 True로 초기화시킨다.\n",
    "    #change = False\n",
    "    flag = True\n",
    "    for j in range(len(data) - 1 - i):\n",
    "        if data[j] < data[j + 1]:\n",
    "            data[j], data[j + 1] = data[j + 1], data[j]\n",
    "            #ⓑ 데이터 교환 작업이 실행되면 flag 변수를 False로 수정한다.\n",
    "            #change =True\n",
    "            flag = False\n",
    "    #===for j\n",
    "    #ⓒ 한 회전이 종료되었을 때 데이터 교환 작업이 한번도 실행되지 않았다면 현재 데이터는 모두 정렬이 되어있는 상태를 의미하므로\n",
    "    #정렬을 종료시킨다. => 반복을 탈출한다.\n",
    "    if flag:\n",
    "    #if change == False:\n",
    "        print('원래 {}회전을 해야하지만 {}회전 후 조기 종료됨.'.format(len(data)-1, i+1))\n",
    "        break\n",
    "    print('{}회전 결과 : {}'.format(i + 1, data))\n",
    "print('정렬 결과 : {}'.format(data))"
   ]
  }
 ],
 "metadata": {
  "kernelspec": {
   "display_name": "Python 3",
   "language": "python",
   "name": "python3"
  },
  "language_info": {
   "codemirror_mode": {
    "name": "ipython",
    "version": 3
   },
   "file_extension": ".py",
   "mimetype": "text/x-python",
   "name": "python",
   "nbconvert_exporter": "python",
   "pygments_lexer": "ipython3",
   "version": "3.7.6"
  }
 },
 "nbformat": 4,
 "nbformat_minor": 4
}
