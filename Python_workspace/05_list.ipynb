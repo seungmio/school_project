{
 "cells": [
  {
   "cell_type": "code",
   "execution_count": null,
   "metadata": {},
   "outputs": [],
   "source": [
    "#리스트 => 다른 언어의 배열과 유사하다.\n",
    "#리스트를 만들때는 데이터를 []로 감싸고 각각의 데이터는 ','로 구분한다."
   ]
  },
  {
   "cell_type": "code",
   "execution_count": 3,
   "metadata": {},
   "outputs": [
    {
     "name": "stdout",
     "output_type": "stream",
     "text": [
      "[]\n",
      "<class 'list'>\n",
      "[]\n",
      "<class 'list'>\n"
     ]
    }
   ],
   "source": [
    "#비어있는 리스트 만들기\n",
    "a = []\n",
    "print(a)\n",
    "print(type(a))\n",
    "#빈 리스트는 생성자 함수를 이용해서도 만들 수 있다.\n",
    "b = list()\n",
    "print(b)\n",
    "print(type(b))"
   ]
  },
  {
   "cell_type": "code",
   "execution_count": 9,
   "metadata": {},
   "outputs": [
    {
     "name": "stdout",
     "output_type": "stream",
     "text": [
      "[1, 2, 3]\n",
      "<class 'list'>\n",
      "['A', 'B', 'C']\n",
      "<class 'list'>\n",
      "[100, 200, 'A', 'B']\n",
      "<class 'list'>\n",
      "[100, 200, ['A', 'B']]\n",
      "<class 'list'>\n",
      "[[100, 200], ['A', 'B']]\n",
      "<class 'list'>\n"
     ]
    }
   ],
   "source": [
    "c = [1, 2, 3]\n",
    "print(c)\n",
    "print(type(c))\n",
    "d = ['A', 'B', 'C']\n",
    "print(d)\n",
    "print(type(d))\n",
    "e = [100, 200, 'A', 'B'] \n",
    "print(e)\n",
    "print(type(e))\n",
    "f = [100, 200, ['A', 'B']]\n",
    "print(f)\n",
    "print(type(f))\n",
    "g = [[100, 200],['A', 'B']]\n",
    "print(g)\n",
    "print(type(g))"
   ]
  },
  {
   "cell_type": "code",
   "execution_count": 14,
   "metadata": {},
   "outputs": [
    {
     "name": "stdout",
     "output_type": "stream",
     "text": [
      "[10, 20, 30, 40, 50]\n",
      "10\n",
      "50\n",
      "50\n"
     ]
    }
   ],
   "source": [
    "#리스트 인덱싱\n",
    "a = [10, 20, 30, 40, 50]\n",
    "print(a)\n",
    "print(a[0])\n",
    "print(a[4])\n",
    "print(a[-1])"
   ]
  },
  {
   "cell_type": "code",
   "execution_count": 23,
   "metadata": {},
   "outputs": [
    {
     "name": "stdout",
     "output_type": "stream",
     "text": [
      "[10, 20, 30, ['a', 'b', 'c']]\n",
      "4\n",
      "10\n",
      "['a', 'b', 'c']\n",
      "['a', 'b', 'c']\n",
      "b\n",
      "b\n"
     ]
    }
   ],
   "source": [
    "b = [10, 20, 30, ['a', 'b', 'c']]\n",
    "print(b)\n",
    "print(len(b))\n",
    "print(b[0])\n",
    "print(b[3])\n",
    "print(b[-1])\n",
    "print(b[3][1])\n",
    "print(b[-1][-2])"
   ]
  },
  {
   "cell_type": "code",
   "execution_count": 34,
   "metadata": {},
   "outputs": [
    {
     "name": "stdout",
     "output_type": "stream",
     "text": [
      "[10, 20, ['a', 'b', ['홍길동', '임꺽정', '장길산']]]\n",
      "3\n",
      "['a', 'b', ['홍길동', '임꺽정', '장길산']]\n",
      "3\n",
      "['홍길동', '임꺽정', '장길산']\n",
      "3\n",
      "홍길동\n"
     ]
    }
   ],
   "source": [
    "c = [10, 20, ['a', 'b', ['홍길동', '임꺽정', '장길산']]]\n",
    "print(c)\n",
    "print(len(c))\n",
    "print(c[2])\n",
    "print(len(c[2]))\n",
    "print(c[2][2])\n",
    "print(len(c[2][2]))\n",
    "print(c[2][2][0])"
   ]
  },
  {
   "cell_type": "code",
   "execution_count": 38,
   "metadata": {},
   "outputs": [
    {
     "name": "stdout",
     "output_type": "stream",
     "text": [
      "[10, 20, 30, 40, 50]\n",
      "10\n",
      "<class 'int'>\n",
      "[10]\n",
      "<class 'list'>\n",
      "[20, 30, 40]\n",
      "[10, 20, 30]\n",
      "[10, 20, 30]\n",
      "[30, 40, 50]\n",
      "[30, 40, 50]\n",
      "[10, 20, 30, 40, 50]\n",
      "[10, 30, 50]\n",
      "[50, 40, 30, 20, 10]\n"
     ]
    }
   ],
   "source": [
    "#리스트 슬라이싱\n",
    "a = [10, 20, 30, 40, 50]\n",
    "print(a)\n",
    "print(a[0]) #인덱싱을 사용하면 인덱싱 결과를 상수로 얻어온다.\n",
    "print(type(a[0])) #<class 'int'>\n",
    "print(a[0:1]) #슬라이싱을 사용하면 슬라이싱 결과를 리스트로 얻어온다.\n",
    "print(type(a[0:1])) #<class 'list'>\n",
    "print(a[1:4])\n",
    "print(a[0:3])\n",
    "print(a[:3])\n",
    "print(a[2:5])\n",
    "print(a[2:])\n",
    "print(a[:])\n",
    "print(a[::2])\n",
    "print(a[::-1])"
   ]
  },
  {
   "cell_type": "code",
   "execution_count": 40,
   "metadata": {},
   "outputs": [
    {
     "name": "stdout",
     "output_type": "stream",
     "text": [
      "[1, 2, 3, 4, 5, 6]\n"
     ]
    }
   ],
   "source": [
    "#리스트 연산자\n",
    "#'+' 연산자는 두 개의 리스트를 연결한다.\n",
    "print([1, 2, 3] + [4, 5, 6])"
   ]
  },
  {
   "cell_type": "code",
   "execution_count": 42,
   "metadata": {},
   "outputs": [
    {
     "name": "stdout",
     "output_type": "stream",
     "text": [
      "[1, 2, 3, 1, 2, 3, 1, 2, 3]\n"
     ]
    }
   ],
   "source": [
    "#'*' 연산자는 리스트를 지정한 횟수 만큼 반복한다.\n",
    "print([1, 2, 3] * 3)"
   ]
  },
  {
   "cell_type": "code",
   "execution_count": 50,
   "metadata": {},
   "outputs": [
    {
     "name": "stdout",
     "output_type": "stream",
     "text": [
      "[10, 20, 30]\n",
      "[40, 20, 30]\n",
      "[40, 99, 30]\n",
      "[40, 99, [111]]\n",
      "[40, 99]\n",
      "[40]\n"
     ]
    }
   ],
   "source": [
    "#인덱싱과 슬라이싱을 이용한 리스트의 수정 및 삭제\n",
    "#리스트를 인덱싱을 사용해 수정하려면 상수를 넣어야 하고 슬라이싱을 사용해서 수정하려면 리스트를 넣어야 한다.\n",
    "a = [10, 20, 30]\n",
    "print(a)\n",
    "a[0] = 40\n",
    "print(a)\n",
    "#a[1:2] = 99 #슬라이싱 결과는 리스트이기 때문에 상수를 넣을 수 없다는 에러가 발생된다.\n",
    "a[1:2] = [99]\n",
    "print(a)\n",
    "#리스트를 인덱싱을 사용해서 수정할 때 리스트를 넣어주면 리스트 자체로 수정된다.\n",
    "a[2] = [111]\n",
    "print(a)\n",
    "#인덱싱 방식은 del 명령으로 데이터를 삭제한다.\n",
    "del a[2]\n",
    "print(a)\n",
    "#슬라이싱 방식은 빈 리스트를 넣어주면 데이터가 삭제되는 것처럼 보인다.\n",
    "a[1:2] = []\n",
    "print(a)"
   ]
  },
  {
   "cell_type": "code",
   "execution_count": 51,
   "metadata": {
    "scrolled": true
   },
   "outputs": [
    {
     "ename": "NameError",
     "evalue": "name 'a' is not defined",
     "output_type": "error",
     "traceback": [
      "\u001b[1;31m---------------------------------------------------------------------------\u001b[0m",
      "\u001b[1;31mNameError\u001b[0m                                 Traceback (most recent call last)",
      "\u001b[1;32m<ipython-input-51-f9504502d38b>\u001b[0m in \u001b[0;36m<module>\u001b[1;34m\u001b[0m\n\u001b[0;32m      1\u001b[0m \u001b[1;31m#del 명령 뒤에 리스트 이름만 쓰면 리스트 자체가 삭제된다.\u001b[0m\u001b[1;33m\u001b[0m\u001b[1;33m\u001b[0m\u001b[1;33m\u001b[0m\u001b[0m\n\u001b[0;32m      2\u001b[0m \u001b[1;32mdel\u001b[0m \u001b[0ma\u001b[0m\u001b[1;33m\u001b[0m\u001b[1;33m\u001b[0m\u001b[0m\n\u001b[1;32m----> 3\u001b[1;33m \u001b[0mprint\u001b[0m\u001b[1;33m(\u001b[0m\u001b[0ma\u001b[0m\u001b[1;33m)\u001b[0m\u001b[1;33m\u001b[0m\u001b[1;33m\u001b[0m\u001b[0m\n\u001b[0m",
      "\u001b[1;31mNameError\u001b[0m: name 'a' is not defined"
     ]
    }
   ],
   "source": [
    "#del 명령 뒤에 리스트 이름만 쓰면 리스트 자체가 삭제된다.\n",
    "del a\n",
    "print(a)"
   ]
  },
  {
   "cell_type": "code",
   "execution_count": 1,
   "metadata": {
    "scrolled": true
   },
   "outputs": [
    {
     "name": "stdout",
     "output_type": "stream",
     "text": [
      "[10, 20, 30]\n",
      "[10, 20, 30, 100]\n"
     ]
    }
   ],
   "source": [
    "#append() 메소드는 리스트의 맨 뒤에 인수로 지정된 데이터를 추가한다.\n",
    "a = [10, 20, 30]\n",
    "print(a)\n",
    "a.append(100)\n",
    "print(a)"
   ]
  },
  {
   "cell_type": "code",
   "execution_count": 2,
   "metadata": {},
   "outputs": [
    {
     "name": "stdout",
     "output_type": "stream",
     "text": [
      "[10, 20, 30]\n",
      "[10, 100, 20, 30]\n"
     ]
    }
   ],
   "source": [
    "#insert() 메소드는 리스트의 지정된 index 위치에 인수로 지정된 데이터를 삽입한다.\n",
    "a = [10, 20, 30]\n",
    "print(a)\n",
    "a.insert(1, 100)\n",
    "print(a)"
   ]
  },
  {
   "cell_type": "code",
   "execution_count": 6,
   "metadata": {},
   "outputs": [
    {
     "name": "stdout",
     "output_type": "stream",
     "text": [
      "[8, 3, 4, 9, 1]\n",
      "[1, 3, 4, 8, 9]\n",
      "['d', 'b', 'c', 'a']\n",
      "['a', 'b', 'c', 'd']\n",
      "['홍길동', '임꺽정', '장길산', '일지매']\n",
      "['일지매', '임꺽정', '장길산', '홍길동']\n"
     ]
    }
   ],
   "source": [
    "#sort() 메소드는 리스트에 저장된 데이터를 오름차순(한글은 가나다, 영문은 abc 순)으로 정렬한다.\n",
    "a = [8, 3, 4, 9, 1]\n",
    "print(a)\n",
    "a.sort()\n",
    "print(a)\n",
    "\n",
    "b = ['d', 'b', 'c', 'a']\n",
    "print(b)\n",
    "b.sort()\n",
    "print(b)\n",
    "\n",
    "c = ['홍길동', '임꺽정', '장길산', '일지매']\n",
    "print(c)\n",
    "c.sort()\n",
    "print(c)"
   ]
  },
  {
   "cell_type": "code",
   "execution_count": 7,
   "metadata": {},
   "outputs": [
    {
     "name": "stdout",
     "output_type": "stream",
     "text": [
      "[8, 3, 4, 9, 1]\n",
      "[9, 8, 4, 3, 1]\n",
      "['d', 'b', 'c', 'a']\n",
      "['d', 'c', 'b', 'a']\n",
      "['홍길동', '임꺽정', '장길산', '일지매']\n",
      "['홍길동', '장길산', '임꺽정', '일지매']\n"
     ]
    }
   ],
   "source": [
    "#sort() 메소드 reverse = True 지정하면 내림차순으로 정렬할 수 있다.\n",
    "a = [8, 3, 4, 9, 1]\n",
    "print(a)\n",
    "a.sort(reverse=True)\n",
    "print(a)\n",
    "\n",
    "b = ['d', 'b', 'c', 'a']\n",
    "print(b)\n",
    "b.sort(reverse=True)\n",
    "print(b)\n",
    "\n",
    "c = ['홍길동', '임꺽정', '장길산', '일지매']\n",
    "print(c)\n",
    "c.sort(reverse=True)\n",
    "print(c)"
   ]
  },
  {
   "cell_type": "code",
   "execution_count": 9,
   "metadata": {},
   "outputs": [
    {
     "name": "stdout",
     "output_type": "stream",
     "text": [
      "[100, '010', 55, '12345']\n"
     ]
    }
   ],
   "source": [
    "#sort() 메소드는 sort() 메소드를 실행하려는 리스트에 같은 타입의 데이터가 저장되어있을 경우에만 정상적으로 실행된다.\n",
    "a = [100, '010', 55, '12345']\n",
    "print(a)\n",
    "#a.sort() #에러"
   ]
  },
  {
   "cell_type": "code",
   "execution_count": 10,
   "metadata": {},
   "outputs": [
    {
     "name": "stdout",
     "output_type": "stream",
     "text": [
      "['홍길동', '임꺽정', '장길산', '일지매']\n",
      "['일지매', '장길산', '임꺽정', '홍길동']\n"
     ]
    }
   ],
   "source": [
    "#reverse() 메소드는 리스트에 저장된 데이터의 순서를 뒤집는다.\n",
    "a = ['홍길동', '임꺽정', '장길산', '일지매']\n",
    "print(a)\n",
    "a.reverse()\n",
    "print(a)"
   ]
  },
  {
   "cell_type": "code",
   "execution_count": 12,
   "metadata": {},
   "outputs": [
    {
     "name": "stdout",
     "output_type": "stream",
     "text": [
      "[1, 2, 3, 4, 3, 5, 3]\n",
      "3\n",
      "0\n"
     ]
    }
   ],
   "source": [
    "#count() 메소드는 인수로 지정된 데이터가 리스트에 포함되어있는 개수를 얻어온다.\n",
    "a = [1, 2, 3, 4, 3, 5, 3]\n",
    "print(a)\n",
    "print(a.count(3))\n",
    "print(a.count(6))"
   ]
  },
  {
   "cell_type": "code",
   "execution_count": 13,
   "metadata": {},
   "outputs": [
    {
     "name": "stdout",
     "output_type": "stream",
     "text": [
      "[1, 2, 3, 4, 3, 5, 3]\n",
      "2\n"
     ]
    },
    {
     "ename": "ValueError",
     "evalue": "6 is not in list",
     "output_type": "error",
     "traceback": [
      "\u001b[1;31m---------------------------------------------------------------------------\u001b[0m",
      "\u001b[1;31mValueError\u001b[0m                                Traceback (most recent call last)",
      "\u001b[1;32m<ipython-input-13-b2b78aa68e23>\u001b[0m in \u001b[0;36m<module>\u001b[1;34m\u001b[0m\n\u001b[0;32m      3\u001b[0m \u001b[0mprint\u001b[0m\u001b[1;33m(\u001b[0m\u001b[0ma\u001b[0m\u001b[1;33m)\u001b[0m\u001b[1;33m\u001b[0m\u001b[1;33m\u001b[0m\u001b[0m\n\u001b[0;32m      4\u001b[0m \u001b[0mprint\u001b[0m\u001b[1;33m(\u001b[0m\u001b[0ma\u001b[0m\u001b[1;33m.\u001b[0m\u001b[0mindex\u001b[0m\u001b[1;33m(\u001b[0m\u001b[1;36m3\u001b[0m\u001b[1;33m)\u001b[0m\u001b[1;33m)\u001b[0m\u001b[1;33m\u001b[0m\u001b[1;33m\u001b[0m\u001b[0m\n\u001b[1;32m----> 5\u001b[1;33m \u001b[0mprint\u001b[0m\u001b[1;33m(\u001b[0m\u001b[0ma\u001b[0m\u001b[1;33m.\u001b[0m\u001b[0mindex\u001b[0m\u001b[1;33m(\u001b[0m\u001b[1;36m6\u001b[0m\u001b[1;33m)\u001b[0m\u001b[1;33m)\u001b[0m\u001b[1;33m\u001b[0m\u001b[1;33m\u001b[0m\u001b[0m\n\u001b[0m",
      "\u001b[1;31mValueError\u001b[0m: 6 is not in list"
     ]
    }
   ],
   "source": [
    "#index() 메소드는 인수로 지정된 데이터가 리스트에 최초로 출현하는 위치를 얻어온다.\n",
    "a = [1, 2, 3, 4, 3, 5, 3]\n",
    "print(a)\n",
    "print(a.index(3))\n",
    "print(a.index(6)) #인수로 지정한 데이터가 리스트에 없을 경우 에러가 발생된다.\n"
   ]
  },
  {
   "cell_type": "code",
   "execution_count": 17,
   "metadata": {},
   "outputs": [
    {
     "name": "stdout",
     "output_type": "stream",
     "text": [
      "[1, 2, 3, 4, 3, 5, 3]\n",
      "[1, 2, 4, 3, 5, 3]\n",
      "[1, 2, 4, 5, 3]\n",
      "[1, 2, 4, 5]\n"
     ]
    },
    {
     "ename": "ValueError",
     "evalue": "list.remove(x): x not in list",
     "output_type": "error",
     "traceback": [
      "\u001b[1;31m---------------------------------------------------------------------------\u001b[0m",
      "\u001b[1;31mValueError\u001b[0m                                Traceback (most recent call last)",
      "\u001b[1;32m<ipython-input-17-813d2021d56e>\u001b[0m in \u001b[0;36m<module>\u001b[1;34m\u001b[0m\n\u001b[0;32m      8\u001b[0m \u001b[0ma\u001b[0m\u001b[1;33m.\u001b[0m\u001b[0mremove\u001b[0m\u001b[1;33m(\u001b[0m\u001b[1;36m3\u001b[0m\u001b[1;33m)\u001b[0m\u001b[1;33m\u001b[0m\u001b[1;33m\u001b[0m\u001b[0m\n\u001b[0;32m      9\u001b[0m \u001b[0mprint\u001b[0m\u001b[1;33m(\u001b[0m\u001b[0ma\u001b[0m\u001b[1;33m)\u001b[0m\u001b[1;33m\u001b[0m\u001b[1;33m\u001b[0m\u001b[0m\n\u001b[1;32m---> 10\u001b[1;33m \u001b[0ma\u001b[0m\u001b[1;33m.\u001b[0m\u001b[0mremove\u001b[0m\u001b[1;33m(\u001b[0m\u001b[1;36m3\u001b[0m\u001b[1;33m)\u001b[0m \u001b[1;31m#삭제하려는 데이터가 리스트에 없으면 에러가 발생된다.\u001b[0m\u001b[1;33m\u001b[0m\u001b[1;33m\u001b[0m\u001b[0m\n\u001b[0m\u001b[0;32m     11\u001b[0m \u001b[0mprint\u001b[0m\u001b[1;33m(\u001b[0m\u001b[0ma\u001b[0m\u001b[1;33m)\u001b[0m\u001b[1;33m\u001b[0m\u001b[1;33m\u001b[0m\u001b[0m\n",
      "\u001b[1;31mValueError\u001b[0m: list.remove(x): x not in list"
     ]
    }
   ],
   "source": [
    "#remove() 메소드는 인수로 지정된 데이터를 리스트에서 제거한다. => 데이터가 여러개일 경우 첫 번째 데이터만 제거된다.\n",
    "a = [1, 2, 3, 4, 3, 5, 3]\n",
    "print(a)\n",
    "a.remove(3)\n",
    "print(a)\n",
    "a.remove(3)\n",
    "print(a)\n",
    "a.remove(3)\n",
    "print(a)\n",
    "a.remove(3) #삭제하려는 데이터가 리스트에 없으면 에러가 발생된다.\n",
    "print(a) "
   ]
  },
  {
   "cell_type": "code",
   "execution_count": 25,
   "metadata": {},
   "outputs": [
    {
     "name": "stdout",
     "output_type": "stream",
     "text": [
      "[1, 2, 3, 4, 3, 5, 3]\n",
      "3 [1, 2, 3, 4, 3, 5]\n",
      "[1, 2, 3, 4, 3]\n",
      "[1, 2, 3, 4]\n",
      "2 [1, 3, 4]\n"
     ]
    }
   ],
   "source": [
    "#pop() 메소드는 리스트의 마지막 데이터를 얻어온 후 리스트에서 제거한다.\n",
    "#ctrl 누른 뒤 선택하면 일괄 처리가 가능하다.\n",
    "a = [1, 2, 3, 4, 3, 5, 3]\n",
    "print(a)\n",
    "result = a.pop()\n",
    "print(result, a)\n",
    "a.pop()\n",
    "print(a)\n",
    "a.pop()\n",
    "print(a)\n",
    "result = a.pop(1) #pop() 메소드의 인수로 index를 지정하면 지정된 index 위치의 데이터를 얻어온 후 제거한다. \n",
    "print(result, a) "
   ]
  }
 ],
 "metadata": {
  "kernelspec": {
   "display_name": "Python 3",
   "language": "python",
   "name": "python3"
  },
  "language_info": {
   "codemirror_mode": {
    "name": "ipython",
    "version": 3
   },
   "file_extension": ".py",
   "mimetype": "text/x-python",
   "name": "python",
   "nbconvert_exporter": "python",
   "pygments_lexer": "ipython3",
   "version": "3.7.6"
  }
 },
 "nbformat": 4,
 "nbformat_minor": 4
}
