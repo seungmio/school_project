{
 "cells": [
  {
   "cell_type": "code",
   "execution_count": 6,
   "metadata": {},
   "outputs": [
    {
     "name": "stdout",
     "output_type": "stream",
     "text": [
      "10진수를 입력하세요 : 26\n",
      "11010\n",
      "[1, 1, 0, 1, 0]\n",
      "[1, 1, 0, 1, 0]\n"
     ]
    }
   ],
   "source": [
    "#진법 변환 => 10진수를 2진수로\n",
    "dec = int(input('10진수를 입력하세요 : '))\n",
    "convert = [] #10진수가 2진수로 변환된 결과를 저장할 빈 리스트를 만든다.\n",
    "\n",
    "#입력받은 10진수의 크기에 따라서 반복횟수가 달라지므로 무한루프를 돌려서 처리한다.\n",
    "while True:\n",
    "    m = dec // 2\n",
    "    r = dec % 2\n",
    "    convert.append(r)\n",
    "    if m == 0:\n",
    "        break\n",
    "    #=== if\n",
    "    #다음 연산을 위해서 몫을 dec에 저장한다.\n",
    "    dec = m\n",
    "#=== while\n",
    "\n",
    "#convert 리스트에 저장된 데이터를 뒤부터 앞 방향으로 출력한다.\n",
    "for i in range(len(convert) - 1, -1, -1):\n",
    "    print(convert[i], end = '')\n",
    "print()\n",
    "print(convert[::-1])\n",
    "convert.reverse()\n",
    "print(convert)"
   ]
  },
  {
   "cell_type": "code",
   "execution_count": 7,
   "metadata": {},
   "outputs": [
    {
     "name": "stdout",
     "output_type": "stream",
     "text": [
      "10진수를 입력하세요 : 26\n",
      "[3, 2]\n"
     ]
    }
   ],
   "source": [
    "#진법 변환 => 10진수를 8진수로\n",
    "dec = int(input('10진수를 입력하세요 : '))\n",
    "convert = [] #10진수가 8진수로 변환된 결과를 저장할 빈 리스트를 만든다.\n",
    "while True:\n",
    "    m = dec // 8\n",
    "    r = dec % 8\n",
    "    convert.append(r)\n",
    "    if m == 0:\n",
    "        break\n",
    "    dec = m\n",
    "print(convert[::-1])"
   ]
  },
  {
   "cell_type": "code",
   "execution_count": 11,
   "metadata": {},
   "outputs": [
    {
     "name": "stdout",
     "output_type": "stream",
     "text": [
      "10진수를 입력하세요 : 26\n",
      "['1', 'A']\n"
     ]
    }
   ],
   "source": [
    "#진법 변환 => 10진수를 16진수로\n",
    "dec = int(input('10진수를 입력하세요 : '))\n",
    "convert = [] #10진수가 16진수로 변환된 결과를 저장할 빈 리스트를 만든다.\n",
    "\n",
    "#16진수를 기억하는 리스트를 만든다.\n",
    "hex_16 = ['0', '1', '2', '3', '4', '5', '6', '7', '8', '9', 'A', 'B', 'C', 'D', 'E', 'F']\n",
    "\n",
    "while True:\n",
    "    m = dec // 16\n",
    "    r = dec % 16\n",
    "    convert.append(hex_16[r])\n",
    "    if m == 0:\n",
    "        break\n",
    "    dec = m\n",
    "print(convert[::-1])"
   ]
  },
  {
   "cell_type": "code",
   "execution_count": 14,
   "metadata": {},
   "outputs": [
    {
     "name": "stdout",
     "output_type": "stream",
     "text": [
      "10진수와 변환할 진법을 입력하세요. : 26 8\n",
      "['3', '2']\n"
     ]
    }
   ],
   "source": [
    "#진법 변환 => 10진수를 n진수로\n",
    "dec, n = map(int, input('10진수와 변환할 진법을 입력하세요. : ').split())\n",
    "convert = [] \n",
    "\n",
    "#16진수를 기억하는 리스트를 만든다.\n",
    "hex_16 = ['0', '1', '2', '3', '4', '5', '6', '7', '8', '9', 'A', 'B', 'C', 'D', 'E', 'F']\n",
    "\n",
    "while True:\n",
    "    m = dec // n\n",
    "    r = dec % n\n",
    "    convert.append(hex_16[r])\n",
    "    if m == 0:\n",
    "        break\n",
    "    dec = m\n",
    "print(convert[::-1])"
   ]
  },
  {
   "cell_type": "code",
   "execution_count": 16,
   "metadata": {},
   "outputs": [
    {
     "name": "stdout",
     "output_type": "stream",
     "text": [
      "10진수와 변환할 진법을 입력하세요. : 36 36\n",
      "10"
     ]
    }
   ],
   "source": [
    "#진법 변환 => 10진수를 n진수로, 최대 36진법까지 가능하다.\n",
    "dec, n = map(int, input('10진수와 변환할 진법을 입력하세요. : ').split())\n",
    "convert = [] \n",
    "\n",
    "while True:\n",
    "    m = dec // n\n",
    "    r = dec % n\n",
    "    convert.append(r)\n",
    "    if m == 0:\n",
    "        break\n",
    "    dec = m\n",
    "\n",
    "for i in range(len(convert) - 1, -1, -1):\n",
    "    #convert[i]를 출력할건데 만약에 convert[i]가 10보다 작지않다면 convert[i]에 55를 더한 코드값에 해당되는 문자를 출력한다.\n",
    "    print(convert[i] if convert[i] < 10 else chr(convert[i] + 55), end = '')"
   ]
  },
  {
   "cell_type": "code",
   "execution_count": 17,
   "metadata": {},
   "outputs": [
    {
     "name": "stdout",
     "output_type": "stream",
     "text": [
      "A\n"
     ]
    }
   ],
   "source": [
    "print(chr(65))"
   ]
  }
 ],
 "metadata": {
  "kernelspec": {
   "display_name": "Python 3",
   "language": "python",
   "name": "python3"
  },
  "language_info": {
   "codemirror_mode": {
    "name": "ipython",
    "version": 3
   },
   "file_extension": ".py",
   "mimetype": "text/x-python",
   "name": "python",
   "nbconvert_exporter": "python",
   "pygments_lexer": "ipython3",
   "version": "3.7.6"
  }
 },
 "nbformat": 4,
 "nbformat_minor": 4
}
