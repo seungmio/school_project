{
 "cells": [
  {
   "cell_type": "code",
   "execution_count": 1,
   "metadata": {},
   "outputs": [],
   "source": [
    "#유클리드 호제법을 이용한 최대공약수와 최소공배수 계산하기\n",
    "#숫자 2개를 입력받아 큰 수와 작은 수로 구분한다.\n",
    "#큰 수를 작은 수로 나눈 나머지가 0이면 작은 수가 최대공약수가 되고 큰 수를 작은 수로 나눈 나머지가 0이 아니면\n",
    "#큰 수를 기억하던 기억장소에 작은 수를 넣고 작은 수를 기억하던 기억장소에 나머지를 넣어준 후 작업을 반복한다.\n",
    "#최대공약수가 계산되면 입력받은 숫자 2개를 곱한 결과를 최대공약수로 나눠주면 최소공배수가 계산된다."
   ]
  },
  {
   "cell_type": "code",
   "execution_count": 4,
   "metadata": {},
   "outputs": [
    {
     "name": "stdout",
     "output_type": "stream",
     "text": [
      "숫자 2개를 입력하세요 : 6 9\n",
      "big = 9, small = 6\n",
      "최대공약수 : 3, 최소공배수 : 18\n"
     ]
    }
   ],
   "source": [
    "#숫자 2개를 입력받아 큰 수와 작은 수를 판단한다.\n",
    "a, b = map(int, input('숫자 2개를 입력하세요 : ').split())\n",
    "if a > b:\n",
    "    big = a\n",
    "    small = b\n",
    "else:\n",
    "    big = b\n",
    "    small = a\n",
    "print('big = {}, small = {}'.format(big, small))\n",
    "\n",
    "#입력받은 숫자에 따라 반복 횟수가 달라지므로 무한루프를 돌려 처리한다.\n",
    "while True:\n",
    "    r = big % small #큰 수를 작은 수로 나눈 나머지를 계산한다.\n",
    "    if r == 0: #무한루프 종료 조건\n",
    "        break\n",
    "    #=== if\n",
    "    #다음 연산을 위해 작은 수를 큰 수로 나머지를 작은 수로 옮겨준다.\n",
    "    big = small\n",
    "    small = r\n",
    "#=== while\n",
    "\n",
    "#최소공배수를 계산하고 최대공약수와 최소공배수를 출력한다.\n",
    "print('최대공약수 : {}, 최소공배수 : {}'.format(small, a * b // small))"
   ]
  },
  {
   "cell_type": "code",
   "execution_count": 5,
   "metadata": {},
   "outputs": [
    {
     "name": "stdout",
     "output_type": "stream",
     "text": [
      "숫자 2개를 입력하세요 : 6 9\n",
      "big = 6, small = 3\n",
      "최대공약수 : 3, 최소공배수 : 18\n"
     ]
    }
   ],
   "source": [
    "a, b = map(int, input('숫자 2개를 입력하세요 : ').split())\n",
    "r = 1 #큰 수를 작은 수로 나눈 나머지를 기억하는 변수, 처리의 흐름을 결정하는 변수\n",
    "if a > b:\n",
    "    high = a\n",
    "    low = b\n",
    "else:\n",
    "    high = b\n",
    "    low = a\n",
    "print('big = {}, small = {}'.format(big, small))\n",
    "\n",
    "#최초 실행 시 변수 r에 저장된 값이 0보다 크므로 나머지를 계산하는 문장이 실행된다.\n",
    "\n",
    "while r > 0:\n",
    "    r = high % low\n",
    "    high = low\n",
    "    low = r\n",
    "#=== while\n",
    "\n",
    "l = a * b // high\n",
    "print('최대공약수 : {}, 최소공배수 : {}'.format(high, l))"
   ]
  }
 ],
 "metadata": {
  "kernelspec": {
   "display_name": "Python 3",
   "language": "python",
   "name": "python3"
  },
  "language_info": {
   "codemirror_mode": {
    "name": "ipython",
    "version": 3
   },
   "file_extension": ".py",
   "mimetype": "text/x-python",
   "name": "python",
   "nbconvert_exporter": "python",
   "pygments_lexer": "ipython3",
   "version": "3.7.6"
  }
 },
 "nbformat": 4,
 "nbformat_minor": 4
}
