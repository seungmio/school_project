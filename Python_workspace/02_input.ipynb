{
 "cells": [
  {
   "cell_type": "code",
   "execution_count": 2,
   "metadata": {},
   "outputs": [],
   "source": [
    "#변수(variable)는 처리할 데이터(상수(constant))를 기억하는 기억장소를 말한다.\n",
    "#변수 이름 작성 방법\n",
    "#영문자(대소문자를 구분한다.), 숫자, 특수문자('_'만 허용)를 사용할 수 있으며 반드시 문자로 시작해야 한다.\n",
    "#카멜 표기법(헝가리안 표기법) => totalCount와 같이 변수 이름이 2개 이상의 단어가 합쳐져서 구성될 때 2번째 이후 모든 단어의 첫 문자를 대문자로 표기한다."
   ]
  },
  {
   "cell_type": "code",
   "execution_count": 11,
   "metadata": {},
   "outputs": [
    {
     "name": "stdout",
     "output_type": "stream",
     "text": [
      "<class 'str'>\n",
      "홍길동\n",
      "<class 'int'>\n",
      "100\n",
      "<class 'float'>\n",
      "3.14159\n",
      "<class 'bool'>\n",
      "True\n"
     ]
    }
   ],
   "source": [
    "#파이썬은 C/C++이나 JAVA 언어와는 달리 변수를 선언할 때 변수의 자료형을 지정하지 않는다.\n",
    "#변수에 저장되는 데이터의 타입에 따라서 자동으로 변수의 자료형이 결정된다. => javascript도 이런 방식으로 사용된다.\n",
    "#'='는 같다라는 의미로 사용되지 않고 '=' 오른쪽의 데이터를 '=' 왼쪽의 기억장소에 저장하라는 의미로 사용된다.\n",
    "#대입문 같다는 '=='와 같이 '=' 2개를 연속해서 사용해야 같다로 인식한다.\n",
    "a = '홍길동'\n",
    "print(type(a)) #<class 'str'> ==> 문자열\n",
    "print(a)\n",
    "a = 100\n",
    "print(type(a))\n",
    "print(a)\n",
    "a = 3.14159\n",
    "print(type(a))\n",
    "print(a)\n",
    "#파이썬은 참, 거짓을 의미하는 True와 False가 있다. => 반드시 첫 문자만 대문자로 써야한다.\n",
    "a = True\n",
    "print(type(a)) #<class 'bool'> => 논리값\n",
    "print(a)"
   ]
  },
  {
   "cell_type": "code",
   "execution_count": 13,
   "metadata": {
    "scrolled": true
   },
   "outputs": [
    {
     "name": "stdout",
     "output_type": "stream",
     "text": [
      "True\n"
     ]
    },
    {
     "ename": "NameError",
     "evalue": "name 'a' is not defined",
     "output_type": "error",
     "traceback": [
      "\u001b[1;31m---------------------------------------------------------------------------\u001b[0m",
      "\u001b[1;31mNameError\u001b[0m                                 Traceback (most recent call last)",
      "\u001b[1;32m<ipython-input-13-737f6e15f8e2>\u001b[0m in \u001b[0;36m<module>\u001b[1;34m\u001b[0m\n\u001b[0;32m      2\u001b[0m \u001b[0mprint\u001b[0m\u001b[1;33m(\u001b[0m\u001b[0ma\u001b[0m\u001b[1;33m)\u001b[0m\u001b[1;33m\u001b[0m\u001b[1;33m\u001b[0m\u001b[0m\n\u001b[0;32m      3\u001b[0m \u001b[1;32mdel\u001b[0m \u001b[0ma\u001b[0m\u001b[1;33m\u001b[0m\u001b[1;33m\u001b[0m\u001b[0m\n\u001b[1;32m----> 4\u001b[1;33m \u001b[0mprint\u001b[0m\u001b[1;33m(\u001b[0m\u001b[0ma\u001b[0m\u001b[1;33m)\u001b[0m\u001b[1;33m\u001b[0m\u001b[1;33m\u001b[0m\u001b[0m\n\u001b[0m",
      "\u001b[1;31mNameError\u001b[0m: name 'a' is not defined"
     ]
    }
   ],
   "source": [
    "#더이상 필요없는 변수는 del 명령으로 삭제할 수 있다.\n",
    "print(a)\n",
    "del a\n",
    "print(a)"
   ]
  },
  {
   "cell_type": "code",
   "execution_count": 16,
   "metadata": {},
   "outputs": [
    {
     "name": "stdout",
     "output_type": "stream",
     "text": [
      "이름을 입력하세요 : 오승미\n",
      "<class 'str'>\n",
      "오승미님 안녕하세요\n"
     ]
    }
   ],
   "source": [
    "#input('메시지') : 메시지를 화면에 출력하고 데이터를 입력받는다.\n",
    "name = input('이름을 입력하세요 : ')\n",
    "print(type(name))\n",
    "print('{}님 안녕하세요'.format(name))"
   ]
  },
  {
   "cell_type": "code",
   "execution_count": 20,
   "metadata": {
    "scrolled": true
   },
   "outputs": [
    {
     "name": "stdout",
     "output_type": "stream",
     "text": [
      "나이를 입력하세요 : 21\n",
      "오승미님은 21살 입니다.\n",
      "오승미님은 내년에 22살 입니다.\n"
     ]
    }
   ],
   "source": [
    "#input() 함수는 무조건 문자열 형태로 데이터를 입력받기 때문에 정수나 실수 데이터로 입력 받으려면 입력받은 후 int() 함수나 float() 함수를 사용해서 숫자로 변환시킨 후 사용해야 한다.\n",
    "#age = int(input('나이를 입력하세요 : '))\n",
    "#print('{}님은 {}살 입니다.'.format(name, age))\n",
    "#print('{}님은 내년에 {}살 입니다.'.format(name, age + 1))\n",
    "age = input('나이를 입력하세요 : ')\n",
    "print('{}님은 {}살 입니다.'.format(name, age))\n",
    "print('{}님은 내년에 {}살 입니다.'.format(name, int(age) + 1))"
   ]
  },
  {
   "cell_type": "code",
   "execution_count": 21,
   "metadata": {},
   "outputs": [
    {
     "name": "stdout",
     "output_type": "stream",
     "text": [
      "Hello Python\n",
      "['Hello', 'Python', 'Good']\n"
     ]
    }
   ],
   "source": [
    "#split() 메소드 사용하면 구분자를 경계로 문자열을 분리할 수 있다. => 구분자를 지정하지 않으면 공백이 기본 구분자로 사용된다.\n",
    "print(\"Hello Python\")\n",
    "print('Hello Python Good'.split())"
   ]
  },
  {
   "cell_type": "code",
   "execution_count": 22,
   "metadata": {},
   "outputs": [
    {
     "name": "stdout",
     "output_type": "stream",
     "text": [
      "이름과 나이를 입력하세요 : 오승미 21\n",
      "오승미님은 21살 입니다.\n",
      "오승미님은 내년에 22살 입니다.\n"
     ]
    }
   ],
   "source": [
    "name, age = input('이름과 나이를 입력하세요 : ').split()\n",
    "print('{}님은 {}살 입니다.'.format(name, age))\n",
    "print('{}님은 내년에 {}살 입니다.'.format(name, int(age) + 1))"
   ]
  },
  {
   "cell_type": "code",
   "execution_count": 26,
   "metadata": {
    "scrolled": true
   },
   "outputs": [
    {
     "name": "stdout",
     "output_type": "stream",
     "text": [
      "세 과목 점수를 입력하세요 : 1 1 1\n",
      "총점은 3점 입니다.\n"
     ]
    }
   ],
   "source": [
    "python, java, android = input('세 과목 점수를 입력하세요 : ').split()\n",
    "total = int(python) + int(java) + int(android)\n",
    "print('총점은 {}점 입니다.'.format(total))"
   ]
  },
  {
   "cell_type": "code",
   "execution_count": 27,
   "metadata": {},
   "outputs": [
    {
     "name": "stdout",
     "output_type": "stream",
     "text": [
      "세 과목 점수를 입력하세요 : 1 2 3\n",
      "총점은 6점 입니다.\n"
     ]
    }
   ],
   "source": [
    "#split() 함수를 사용하면 입력받은 데이터를 split() 메소드로 공백을 경계로 나눠서 한꺼번에 숫자로 변환할 수 있다.\n",
    "#map(자료형[int 또는 float], input('메시지').split())\n",
    "python, java, android = map(int, input('세 과목 점수를 입력하세요 : ').split())\n",
    "print('총점은 {}점 입니다.'.format(python + java + android))"
   ]
  }
 ],
 "metadata": {
  "kernelspec": {
   "display_name": "Python 3",
   "language": "python",
   "name": "python3"
  },
  "language_info": {
   "codemirror_mode": {
    "name": "ipython",
    "version": 3
   },
   "file_extension": ".py",
   "mimetype": "text/x-python",
   "name": "python",
   "nbconvert_exporter": "python",
   "pygments_lexer": "ipython3",
   "version": "3.7.6"
  }
 },
 "nbformat": 4,
 "nbformat_minor": 4
}
