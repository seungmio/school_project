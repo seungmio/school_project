{
 "cells": [
  {
   "cell_type": "code",
   "execution_count": 12,
   "metadata": {},
   "outputs": [
    {
     "name": "stdout",
     "output_type": "stream",
     "text": [
      "[1, 1, 1, 1, 1]\n",
      " 70점은 5등 입니다. *******\n",
      "100점은 1등 입니다. **********\n",
      " 80점은 4등 입니다. ********\n",
      "100점은 1등 입니다. **********\n",
      " 90점은 3등 입니다. *********\n"
     ]
    }
   ],
   "source": [
    "#석차를 기억하는 기억장소는 반드시 초기치를 1로 지정한다.\n",
    "#선택정렬의 반복 알고리즘을 이용해 내림차순(큰 점수가 1등) 석차를 계산하는 프로그램\n",
    "score = [70, 100, 80, 100, 90]\n",
    "#석차를 기억할 리스트를 만든다.\n",
    "rank = [1 for i in range(len(score))]\n",
    "print(rank)\n",
    "\n",
    "for i in range(len(score) - 1):\n",
    "    for j in range(i + 1, len(score)):\n",
    "        #i번째 점수가 크면 j번째 석차를 1증가시키고 j번째 점수가 크면 i번째 석차를 1증가시킨다.\n",
    "        if score[i] > score[j]:\n",
    "            rank[j] += 1\n",
    "        elif score[i] < score[j]:\n",
    "            rank[i] += 1\n",
    "            \n",
    "for i in range(len(score)):\n",
    "    print('{0:3d}점은 {1}등 입니다.'.format(score[i], rank[i]), end = ' ')\n",
    "    print('*' * (score[i] // 10))"
   ]
  }
 ],
 "metadata": {
  "kernelspec": {
   "display_name": "Python 3",
   "language": "python",
   "name": "python3"
  },
  "language_info": {
   "codemirror_mode": {
    "name": "ipython",
    "version": 3
   },
   "file_extension": ".py",
   "mimetype": "text/x-python",
   "name": "python",
   "nbconvert_exporter": "python",
   "pygments_lexer": "ipython3",
   "version": "3.7.6"
  }
 },
 "nbformat": 4,
 "nbformat_minor": 4
}
