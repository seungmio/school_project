{
 "cells": [
  {
   "cell_type": "code",
   "execution_count": 5,
   "metadata": {},
   "outputs": [],
   "source": [
    "#인수가 없는 함수 => 함수가 처리할 데이터를 넘겨받지 않는 함수\n",
    "def func1():\n",
    "    print('func1() 함수가 실행됩니다. - 1')\n",
    "    #함수가 끝까지 실행되거나 return을 만나면 함수가 호출된 곳으로 돌아간다. => return 뒤에 값이 있으면 값을 가지고 돌아간다.\n",
    "    #return이 없거나 return이 있더라도 뒤에 값이 없으면 None을 가지고 돌아간다.\n",
    "    return 'func1() 함수가 실행됩니다. - 2'"
   ]
  },
  {
   "cell_type": "code",
   "execution_count": 10,
   "metadata": {},
   "outputs": [
    {
     "name": "stdout",
     "output_type": "stream",
     "text": [
      "func1() 함수가 실행됩니다. - 1\n",
      "함수의 실행 결과 : func1() 함수가 실행됩니다. - 2\n",
      "================================================================================\n",
      "func1() 함수가 실행됩니다. - 1\n",
      "func1() 함수가 실행됩니다. - 2\n"
     ]
    }
   ],
   "source": [
    "print('함수의 실행 결과 : {}'.format(func1()))\n",
    "print('=' * 80)\n",
    "string = func1()\n",
    "print(string)"
   ]
  },
  {
   "cell_type": "code",
   "execution_count": 16,
   "metadata": {},
   "outputs": [],
   "source": [
    "#결과값(return)이 없는 함수 => return을 사용하지 않으면 None이 리턴된다.\n",
    "def func2(a, b):\n",
    "    print('{} + {} = {}'.format(a, b, a + b))\n",
    "\n",
    "#파이썬은 함수의 오버로딩이 지원되지 않는다. => 오버로딩 효과를 내려면 가변 인자를 가지는 함수를 만들어 사용하면 된다.\n",
    "#오버로딩 => 같은 이름으로 함수를 여러개 만들어 사용하는 것을 말한다.\n",
    "#함수 오버로딩은 이름이 같은 함수가 여러개 있을 때 인수의 개수가 다르면 서로 다른 함수로 취급한다.\n",
    "#만약에 인수의 개수도 같다면 인수의 데이터 타입으로 함수를 식별한다.\n",
    "#파이썬은 함수의 오버로딩이 지원되지 않기 때문에 같은 이름으로 함수를 여러개 만들면 맨 마지막에 정의한 함수만 유효하고\n",
    "#앞에서 만든 함수는 뒤에서 만든 함수로 덮어쓰기가 되서 사용할 수 없게된다.\n",
    "\n",
    "def func2(a, b, c):\n",
    "    print('{} + {} + {} = {}'.format(a, b, c, a + b + c))"
   ]
  },
  {
   "cell_type": "code",
   "execution_count": 4,
   "metadata": {},
   "outputs": [
    {
     "ename": "NameError",
     "evalue": "name 'func2' is not defined",
     "output_type": "error",
     "traceback": [
      "\u001b[1;31m---------------------------------------------------------------------------\u001b[0m",
      "\u001b[1;31mNameError\u001b[0m                                 Traceback (most recent call last)",
      "\u001b[1;32m<ipython-input-4-1459f5ee7e6b>\u001b[0m in \u001b[0;36m<module>\u001b[1;34m\u001b[0m\n\u001b[1;32m----> 1\u001b[1;33m \u001b[0mfunc2\u001b[0m\u001b[1;33m(\u001b[0m\u001b[1;36m5\u001b[0m\u001b[1;33m,\u001b[0m \u001b[1;36m8\u001b[0m\u001b[1;33m,\u001b[0m \u001b[1;36m3\u001b[0m\u001b[1;33m)\u001b[0m\u001b[1;33m\u001b[0m\u001b[1;33m\u001b[0m\u001b[0m\n\u001b[0m",
      "\u001b[1;31mNameError\u001b[0m: name 'func2' is not defined"
     ]
    }
   ],
   "source": [
    "func2(5, 8, 3)"
   ]
  }
 ],
 "metadata": {
  "kernelspec": {
   "display_name": "Python 3",
   "language": "python",
   "name": "python3"
  },
  "language_info": {
   "codemirror_mode": {
    "name": "ipython",
    "version": 3
   },
   "file_extension": ".py",
   "mimetype": "text/x-python",
   "name": "python",
   "nbconvert_exporter": "python",
   "pygments_lexer": "ipython3",
   "version": "3.7.6"
  }
 },
 "nbformat": 4,
 "nbformat_minor": 4
}
