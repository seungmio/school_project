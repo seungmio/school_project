{
 "cells": [
  {
   "cell_type": "code",
   "execution_count": 1,
   "metadata": {},
   "outputs": [],
   "source": [
    "#http://www.pythontutor.com/"
   ]
  },
  {
   "cell_type": "code",
   "execution_count": 1,
   "metadata": {},
   "outputs": [],
   "source": [
    "import random #randrange() 메소드를 사용하기 위해 import 시킨다.\n",
    "import time #sleep() 메소드를 사용하기 위해 import 시킨다."
   ]
  },
  {
   "cell_type": "code",
   "execution_count": 15,
   "metadata": {},
   "outputs": [
    {
     "name": "stdout",
     "output_type": "stream",
     "text": [
      " 1  2  3  4  5  6  7  8  9 10 \n",
      "11 12 13 14 15 16 17 18 19 20 \n",
      "21 22 23 24 25 26 27 28 29 30 \n",
      "31 32 33 34 35 36 37 38 39 40 \n",
      "41 42 43 44 45 \n",
      "==============================섞기 전\n",
      " 2 35 33 44 24 10 43 12  3 26 \n",
      "27 30 22 38  1  8 20 42  5 11 \n",
      "40 16  7 39 19 21 25 17 32 31 \n",
      " 9 14 28 18 23 13 41 37  4 36 \n",
      "15 45  6 34 29 \n",
      "==============================섞은 후\n",
      "1등 번호 : 02 35 33 44 24 10 보너스 번호 : 43\n"
     ]
    }
   ],
   "source": [
    "#로또 추첨기 역할을 할 리스트를 만들고 1~45로 초기화시킨다.\n",
    "#lotto = []\n",
    "#for i in range(1, 46):\n",
    "#    lotto.append(i)\n",
    "lotto = [i for i in range(1, 46)] #i가 45번 반복되는 리스트를 만든다.\n",
    "\n",
    "#섞기 전 상태를 1줄에 숫자 10개씩 출력한다.\n",
    "for i in range(45):\n",
    "    print('{0:2d} '.format(lotto[i]), end = '')\n",
    "    if (i + 1) % 10 == 0:\n",
    "        print()\n",
    "    #=== if\n",
    "#=== for\n",
    "print('\\n' + '=' * 30 + '섞기 전')\n",
    "\n",
    "#섞기\n",
    "#lotto[0]와(고정) lotto[1] ~ lotto[44] 중에서 랜덤한 위치의 값을 선택해서 두 기억장소의 데이터를 교환한다.\n",
    "for i in range(1000000):\n",
    "    #lotto[1] ~ lotto[44] 중에서 랜덤한 위치의 값을 선택한다.\n",
    "    #randrange(a, b) => a 부터 b - 1 사이에서 랜덤한 숫자를 선택한다.\n",
    "    r = random.randrange(1, 45)\n",
    "    #lotto[0]와 lotto[r]에 저장된 데이터를 교환한다.\n",
    "    #temp = lotto[0]\n",
    "    #lotto[0] = lotto[r]\n",
    "    #lotto[r] = temp\n",
    "    lotto[0], lotto[r] = lotto[r], lotto[0]\n",
    "    \n",
    "#섞은 후 상태를 1줄에 숫자 10개씩 출력한다.\n",
    "for i in range(45):\n",
    "    print('{0:2d} '.format(lotto[i]), end = '')\n",
    "    if (i + 1) % 10 == 0:\n",
    "        print()\n",
    "    #=== if\n",
    "#=== for\n",
    "print('\\n' + '=' * 30 + '섞은 후')\n",
    "\n",
    "#1등 번호와 보너스 번호를 출력한다.\n",
    "print('1등 번호 : ', end = '')\n",
    "for i in range(6):\n",
    "    print('{0:02d} '.format(lotto[i]), end = '')\n",
    "    #time 모듈의 sleep() 메소드는 인수로 지정한 시간만큼 프로그램을 일시적으로 멈춘다.\n",
    "    #sleep() 메소드에 인수로 지정하는 시간은 '초' 단위로 지정한다.\n",
    "    time.sleep(1)\n",
    "print('보너스 번호 : {0:02d}'.format(lotto[6]))"
   ]
  },
  {
   "cell_type": "code",
   "execution_count": 2,
   "metadata": {},
   "outputs": [
    {
     "name": "stdout",
     "output_type": "stream",
     "text": [
      "흰 공 : 34 25 61 40 26 빨강 공 : 18\n"
     ]
    }
   ],
   "source": [
    "#미국 로또 => powerball, 1~69 => 5개, 1~26 => 1개\n",
    "\n",
    "lotto = [i for i in range(1, 70)]\n",
    "for i in range(100000):\n",
    "    r = random.randrange(1, 69)\n",
    "    lotto[0], lotto[r] = lotto[r], lotto[0]\n",
    "print('흰 공 : ', end = '')\n",
    "for i in range(5):\n",
    "    print('{0:2d} '.format(lotto[i]), end = '')\n",
    "    time.sleep(1)\n",
    "print('빨강 공 : {0:02d}'.format(random.randrange(1, 27)))"
   ]
  }
 ],
 "metadata": {
  "kernelspec": {
   "display_name": "Python 3",
   "language": "python",
   "name": "python3"
  },
  "language_info": {
   "codemirror_mode": {
    "name": "ipython",
    "version": 3
   },
   "file_extension": ".py",
   "mimetype": "text/x-python",
   "name": "python",
   "nbconvert_exporter": "python",
   "pygments_lexer": "ipython3",
   "version": "3.7.6"
  }
 },
 "nbformat": 4,
 "nbformat_minor": 4
}
