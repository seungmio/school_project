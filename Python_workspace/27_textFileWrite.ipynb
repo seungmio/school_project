{
 "cells": [
  {
   "cell_type": "code",
   "execution_count": 1,
   "metadata": {},
   "outputs": [],
   "source": [
    "#파이썬을 이용해서 텍스트 파일을 처리할 경우 파일 탐색기에서 아래의 설정이 되어있나 확인한다.\n",
    "#window10: 파일 탐색기 => 보기 메뉴 => 파일 확장명에 체크 확인\n",
    "#8 까지: 파일 탐색기 => 보기 메뉴 => 옵션 => 폴더 및 검색 옵션 변경 => 보기 탭 => 알려진 파일 형식의 ~ 체크 해제"
   ]
  },
  {
   "cell_type": "code",
   "execution_count": 3,
   "metadata": {},
   "outputs": [],
   "source": [
    "#파일 열기\n",
    "#파일변수 = open('텍스트 파일 이름', '파일 열기 모드')\n",
    "#파일 열기 모드 => w(write, 출력(덮어쓰기)), a(append, 출력(추가)), r(read, 입력)\n",
    "#w는 지정된 경로에 파일이 없으면 파일을 만든 후 저장하고 파일이 있으면 모든 데이터를 지우고 다시 저장한다. => 덮어쓰기\n",
    "#a는 지정된 경로에 파일이 없으면 파일을 만든 후 저장하고 파일이 있으면 기존 데이터 뒤에 데이터를 추가한다. => 추가\n",
    "#r는 지정된 경로에 파일이 없으면 에러가 발생된다.\n",
    "#출력(w, a) 작업이 완료되면 반드시 close() 메소드를 실행해서 사용한 파일을 닫아야 데이터가 정상적으로 저장되고 입력 작업은 파일을 닫지 않아도 정상적으로 처리된다."
   ]
  },
  {
   "cell_type": "code",
   "execution_count": 6,
   "metadata": {},
   "outputs": [
    {
     "name": "stdout",
     "output_type": "stream",
     "text": [
      "data.txt 파일에 쓰기 완료\n"
     ]
    }
   ],
   "source": [
    "#open() 함수에 파일 이름만 쓰면 현재 작업중인 소스 프로그램이 위치한 폴더에 저장하겠다는 의미이다.\n",
    "#open('data.txt', 'w') 방식으로 파일을 open할 때 cp949라는 메시지가 보이며 한글 인코딩 문제로 에러가 발생될 수 있다.\n",
    "#에러가 발생되면 open('data.txt', 'w', -1, 'utf-8') 방식으로 open하면 정상적으로 처리된다.\n",
    "#open('data.txt', 'w') 방식으로 파일을 open할 때 'UnicodeEncodeError: 'charmap' code can't encode character'와 같은\n",
    "#에러가 발생되면 open('data.txt', 'w', encoding = 'utf-8') 방식으로 open하면 정상적으로 처리된다.\n",
    "file = open('data.txt', 'w')\n",
    "for i in range(10):\n",
    "    #write() 메소드로 텍스트 파일로 출력한다.\n",
    "    #출력할 때 끝에 개행 문자('\\n')를 붙여줘야 텍스트 파일로 데이터를 출력할 때 줄을 바꾼다.\n",
    "    file.write('가나다라마바사\\n')\n",
    "#파일 열기 모드가 w, a일 경우 파일을 닫지 않으면 데이터가 저장되지 않는다.    \n",
    "file.close()\n",
    "print('data.txt 파일에 쓰기 완료')"
   ]
  },
  {
   "cell_type": "code",
   "execution_count": 7,
   "metadata": {},
   "outputs": [],
   "source": [
    "#경로 지정방법은 절대경로 지정방법과 상대경로 지정방법이 있다.\n",
    "#현재 작업중인 소스 프로그램이 위치한 경로가 아닌 다른 경로에 파일을 사용하려면 반드시 파일이 저장될 경로를 설정해야 한다."
   ]
  },
  {
   "cell_type": "code",
   "execution_count": null,
   "metadata": {},
   "outputs": [],
   "source": [
    "#절대경로는 디스크 드라이브의 최상위(root) 폴더(디렉토리)부터 텍스트 파일이 위치한 폴더까지의 경로를 의미한다.\n",
    "#'C:/Python/resource/data/data.txt', 'w'\n",
    "#위와 같이 경로를 지정했을 때 오류가 발생되면 '\\'를 '\\\\'나 '/'로 수정한다."
   ]
  },
  {
   "cell_type": "code",
   "execution_count": null,
   "metadata": {},
   "outputs": [],
   "source": [
    "#상대경로는 현재 화면에 표시되는 소스 프로그램 파일의 위치한 폴더부터 텍스트 파일이 위치한 폴더까지의 경로를 의미한다.\n",
    "#'.' => 현재 화면에 표시되는 소스 프로그램 파일이 저장된 폴더를 의미한다."
   ]
  },
  {
   "cell_type": "code",
   "execution_count": 11,
   "metadata": {},
   "outputs": [
    {
     "name": "stdout",
     "output_type": "stream",
     "text": [
      "data.txt 파일에 쓰기 완료\n"
     ]
    }
   ],
   "source": [
    "file = open('./data/data.txt', 'w')\n",
    "for i in range(10):\n",
    "    file.write('가나다라마바사\\n')\n",
    "file.close()\n",
    "print('data.txt 파일에 쓰기 완료')"
   ]
  },
  {
   "cell_type": "code",
   "execution_count": 3,
   "metadata": {},
   "outputs": [
    {
     "name": "stdout",
     "output_type": "stream",
     "text": [
      ">>> a\n",
      ">>> b\n",
      ">>> c\n",
      ">>> d\n",
      ">>> qiot\n",
      ">>> quit\n",
      "data.txt 파일에 쓰기 완료\n"
     ]
    }
   ],
   "source": [
    "#키보드로 입력하는 문자열을 텍스트 파일로 저장한다.\n",
    "#'quit'가 입력되면 기록을 중지한다. => 'quit'가 대문자로 입력되던 소문자로 입력되던 종료되어야 한다.\n",
    "file = open('C:/Python/resource/data/save.txt', 'w')\n",
    "\n",
    "while True:\n",
    "    string = input('>>> ')\n",
    "    #'quit'가 입력되면 무한루프를 탈출한다.\n",
    "    if string.lower() == 'quit':\n",
    "        break\n",
    "    file.write(string + '\\n')\n",
    "file.close()\n",
    "print('data.txt 파일에 쓰기 완료')"
   ]
  },
  {
   "cell_type": "code",
   "execution_count": 5,
   "metadata": {},
   "outputs": [
    {
     "name": "stdout",
     "output_type": "stream",
     "text": [
      ">>> 가나다라마바사\n",
      ">>> quit\n",
      "data.txt 파일에 쓰기 완료\n"
     ]
    }
   ],
   "source": [
    "#with 구문을 사용해 파일을 open하면 with 구문 내부의 내용이 모두 실행되고 난 후 자동으로 파일을 닫아준다.\n",
    "with open('./data/save.txt', 'a') as file:\n",
    "    while True:\n",
    "        string = input('>>> ')\n",
    "        if string.lower() == 'quit':\n",
    "            break\n",
    "        file.write(string + '\\n')\n",
    "#file.close()\n",
    "print('data.txt 파일에 쓰기 완료')"
   ]
  }
 ],
 "metadata": {
  "kernelspec": {
   "display_name": "Python 3",
   "language": "python",
   "name": "python3"
  },
  "language_info": {
   "codemirror_mode": {
    "name": "ipython",
    "version": 3
   },
   "file_extension": ".py",
   "mimetype": "text/x-python",
   "name": "python",
   "nbconvert_exporter": "python",
   "pygments_lexer": "ipython3",
   "version": "3.7.6"
  }
 },
 "nbformat": 4,
 "nbformat_minor": 4
}
