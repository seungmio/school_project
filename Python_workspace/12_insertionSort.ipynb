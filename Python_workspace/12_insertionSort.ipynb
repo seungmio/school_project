{
 "cells": [
  {
   "cell_type": "code",
   "execution_count": 2,
   "metadata": {},
   "outputs": [
    {
     "name": "stdout",
     "output_type": "stream",
     "text": [
      "[i = 1, j = 0]\n",
      "[i = 2, j = 1][i = 2, j = 0]\n",
      "[i = 3, j = 2][i = 3, j = 1][i = 3, j = 0]\n",
      "[i = 4, j = 3][i = 4, j = 2][i = 4, j = 1][i = 4, j = 0]\n"
     ]
    }
   ],
   "source": [
    "for i in range(1, 5):\n",
    "    for j in range(i - 1, -1, -1):\n",
    "        print('[i = {}, j = {}]'.format(i, j), end = '')\n",
    "    print()"
   ]
  },
  {
   "cell_type": "code",
   "execution_count": 3,
   "metadata": {},
   "outputs": [
    {
     "name": "stdout",
     "output_type": "stream",
     "text": [
      "2회전 결과 : [3, 8, 4, 9, 1]\n",
      "3회전 결과 : [3, 4, 8, 9, 1]\n",
      "4회전 결과 : [3, 4, 8, 9, 1]\n",
      "5회전 결과 : [1, 3, 4, 8, 9]\n",
      "정렬 결과 : [1, 3, 4, 8, 9]\n"
     ]
    }
   ],
   "source": [
    "data = [8, 3, 4, 9, 1]\n",
    "for i in range(1, len(data)):\n",
    "    #이미 정렬된 파일에 새 데이터가 삽입될 위치를 찾기 위해서 새 데이터와 인덱스를 각각 key와 index에 저장한다.\n",
    "    key = data[i]\n",
    "    index = i\n",
    "    #새 데이터가 삽입될 위치를 찾는다.\n",
    "    for j in range(i - 1, -1, -1):\n",
    "        if data[j] > key: #앞의 데이터가 큰가?\n",
    "            #이미 정렬된 파일의 데이터가 더 크기때문에 정렬된 파일의 데이터를 인덱스가 1큰 위치로 이동시키고 삽입할 데이터의\n",
    "            #인덱스를 1 감소시킨다.\n",
    "            data[j + 1] = data[j]\n",
    "            index -= 1\n",
    "        else:\n",
    "            #삽입할 데이터가 크기때문에 이미 정렬된 데이터의 앞에 위치한 데이터와 더이상 비교할 필요가 없으므로 반복을\n",
    "            #탈출한다.\n",
    "            break\n",
    "        #===if\n",
    "    #===for j => 회전 종료\n",
    "    #새 데이터(key)를 정렬된 파일의 위치(index)에 맞게 삽입한다.\n",
    "    data[index] = key\n",
    "    print('{}회전 결과 : {}'.format(i + 1, data))\n",
    "#===for i => 정렬 종료\n",
    "print('정렬 결과 : {}'.format(data))"
   ]
  }
 ],
 "metadata": {
  "kernelspec": {
   "display_name": "Python 3",
   "language": "python",
   "name": "python3"
  },
  "language_info": {
   "codemirror_mode": {
    "name": "ipython",
    "version": 3
   },
   "file_extension": ".py",
   "mimetype": "text/x-python",
   "name": "python",
   "nbconvert_exporter": "python",
   "pygments_lexer": "ipython3",
   "version": "3.7.6"
  }
 },
 "nbformat": 4,
 "nbformat_minor": 4
}
