{
 "cells": [
  {
   "cell_type": "code",
   "execution_count": 1,
   "metadata": {},
   "outputs": [],
   "source": [
    "import calendarModule as cm\n",
    "from datetime import datetime as dt"
   ]
  },
  {
   "cell_type": "code",
   "execution_count": 5,
   "metadata": {
    "scrolled": true
   },
   "outputs": [
    {
     "name": "stdout",
     "output_type": "stream",
     "text": [
      "이번달 => 1, 특정달 => 22\n",
      "달력을 출력하려는 년, 월을 입력하세요 : 2021 6\n",
      "----------------------------\n",
      "         2021년  6월\n",
      "----------------------------\n",
      " 일  월  화  수  목  금  토 \n",
      "----------------------------\n",
      "          1   2   3   4   5 \n",
      "  6   7   8   9  10  11  12 \n",
      " 13  14  15  16  17  18  19 \n",
      " 20  21  22  23  24  25  26 \n",
      " 27  28  29  30 \n",
      "----------------------------"
     ]
    }
   ],
   "source": [
    "#1이 입력되면 컴퓨터 시스템의 날짜에 따른 달력을 출력하고\n",
    "#2가 입력되면 년, 월을 입력받아 달력을 출력한다.\n",
    "\n",
    "menu = int(input('이번달 => 1, 특정달 => 2'))\n",
    "if menu == 1:\n",
    "    now = dt.now()\n",
    "    year = now.year\n",
    "    month = now.month\n",
    "       \n",
    "else:\n",
    "    year, month = map(int, input('달력을 출력하려는 년, 월을 입력하세요 : ').split())\n",
    "    \n",
    "print('-' * 28)\n",
    "print('         {0:4d}년 {1:2d}월'.format(year, month))\n",
    "print('-' * 28)\n",
    "print(' 일  월  화  수  목  금  토 ')\n",
    "print('-' * 28)\n",
    "\n",
    "#1일이 출력될 요일을 맞추기 위해서 1일의 요일만큼 반복하며 빈 칸을 출력한다. => 빈 칸은 반복당 4칸씩 띄운다.\n",
    "for i in range(cm.weekDay(year, month, 1)):\n",
    "    print('    ', end = '')\n",
    "    \n",
    "#1일 부터 달력을 출력할 달의 마지막 날짜까지 반복하며 달력을 출력한다.\n",
    "for i in range(1, cm.lastDay(year, month) + 1):\n",
    "    print(' {0:2d} '.format(i), end = '')\n",
    "    #출력한 날짜(i)가 토요일이고 그 달의 마지막 날짜가 아니면 줄을 바꾼다.\n",
    "    if cm.weekDay(year, month, i) == 6 and cm.lastDay(year, month) != i:\n",
    "        print()\n",
    "print('\\n', end = '-' * 28)"
   ]
  }
 ],
 "metadata": {
  "kernelspec": {
   "display_name": "Python 3",
   "language": "python",
   "name": "python3"
  },
  "language_info": {
   "codemirror_mode": {
    "name": "ipython",
    "version": 3
   },
   "file_extension": ".py",
   "mimetype": "text/x-python",
   "name": "python",
   "nbconvert_exporter": "python",
   "pygments_lexer": "ipython3",
   "version": "3.7.6"
  }
 },
 "nbformat": 4,
 "nbformat_minor": 4
}
