{
 "cells": [
  {
   "cell_type": "code",
   "execution_count": 7,
   "metadata": {},
   "outputs": [],
   "source": [
    "#데이터를 인수로 넘겨받아 딕셔너리를 만들어 리턴하는 함수\n",
    "#데이터를 넘겨받아 딕셔너리로 처리하는 인수는 앞에 '**'을 붙여서 선언한다.\n",
    "def func7(**args):\n",
    "    #print(type(args)) #<class 'dict'>\n",
    "    #print(args)\n",
    "    return args"
   ]
  },
  {
   "cell_type": "code",
   "execution_count": 8,
   "metadata": {},
   "outputs": [
    {
     "name": "stdout",
     "output_type": "stream",
     "text": [
      "{'name': '홍길동'}\n",
      "{'name': '홍길동', 'phone': '010-1234-5678', 'age': 20}\n"
     ]
    }
   ],
   "source": [
    "#앞에 '**'를 붙여서 딕셔너리로 만들 데이터를 받는 인수는 key = value 형태의 데이터를 넘겨줘야 한다.\n",
    "print(func7(name = '홍길동'))\n",
    "print(func7(name = '홍길동', phone = '010-1234-5678', age = 20))"
   ]
  }
 ],
 "metadata": {
  "kernelspec": {
   "display_name": "Python 3",
   "language": "python",
   "name": "python3"
  },
  "language_info": {
   "codemirror_mode": {
    "name": "ipython",
    "version": 3
   },
   "file_extension": ".py",
   "mimetype": "text/x-python",
   "name": "python",
   "nbconvert_exporter": "python",
   "pygments_lexer": "ipython3",
   "version": "3.7.6"
  }
 },
 "nbformat": 4,
 "nbformat_minor": 4
}
