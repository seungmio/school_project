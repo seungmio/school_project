{
 "cells": [
  {
   "cell_type": "code",
   "execution_count": 2,
   "metadata": {},
   "outputs": [],
   "source": [
    "import random"
   ]
  },
  {
   "cell_type": "code",
   "execution_count": 4,
   "metadata": {},
   "outputs": [
    {
     "name": "stdout",
     "output_type": "stream",
     "text": [
      "32 {32}\n",
      "16 {32, 16}\n",
      "16 {32, 16}\n",
      " 5 {32, 16, 5}\n",
      "35 {32, 16, 35, 5}\n",
      " 5 {32, 16, 35, 5}\n",
      " 1 {32, 1, 35, 5, 16}\n",
      "15 {32, 1, 35, 5, 15, 16}\n",
      "1등 번호 : {32, 1, 35, 5, 15, 16}\n",
      "41\n",
      "보너스 번호 : 41\n"
     ]
    }
   ],
   "source": [
    "# 로또 번호를 기억할 빈 set을 만든다.\n",
    "lotto = set()\n",
    "\n",
    "#1등 번호\n",
    "#중복되는 숫자가 몇 번 발생될지 모르기 때문에 무한루프를 돌려서 처리한다.\n",
    "while True:\n",
    "    number = random.randrange(1, 46)\n",
    "    lotto.add(number)\n",
    "    print('{0:2d} {1}'.format(number, lotto))\n",
    "    #set에 중복되지 않는 숫자가 6개 저장되면 무한루프를 탈출시킨다.\n",
    "    if len(lotto) == 6:\n",
    "        break\n",
    "#==== while\n",
    "print('1등 번호 : {}'.format(lotto))\n",
    "\n",
    "#보너스 번호\n",
    "while True:\n",
    "    bonus = random.randrange(1, 46)\n",
    "    print(bonus)\n",
    "    #보너스 번호가 로또 번호에 없을 경우 무한루프를 탈출시킨다.\n",
    "    if bonus not in lotto:\n",
    "        break\n",
    "#==== while\n",
    "print('보너스 번호 : {}'.format(bonus))"
   ]
  }
 ],
 "metadata": {
  "kernelspec": {
   "display_name": "Python 3",
   "language": "python",
   "name": "python3"
  },
  "language_info": {
   "codemirror_mode": {
    "name": "ipython",
    "version": 3
   },
   "file_extension": ".py",
   "mimetype": "text/x-python",
   "name": "python",
   "nbconvert_exporter": "python",
   "pygments_lexer": "ipython3",
   "version": "3.7.6"
  }
 },
 "nbformat": 4,
 "nbformat_minor": 4
}
