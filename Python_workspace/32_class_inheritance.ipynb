{
 "cells": [
  {
   "cell_type": "code",
   "execution_count": 4,
   "metadata": {},
   "outputs": [],
   "source": [
    "#부모(상위, 슈퍼, 기반) 클래스\n",
    "class Parent:\n",
    "    def __init__(self, name='무명씨', gender=False):\n",
    "        self.name = name\n",
    "        self.gender = gender\n",
    "    def __str__(self):\n",
    "        return '{}({})'.format(self.name, '남' if self.gender else '여')"
   ]
  },
  {
   "cell_type": "code",
   "execution_count": 8,
   "metadata": {},
   "outputs": [
    {
     "name": "stdout",
     "output_type": "stream",
     "text": [
      "무명씨(여)\n",
      "홍길동(남)\n",
      "향단이(여)\n"
     ]
    }
   ],
   "source": [
    "#부모 클래스가 잘 생성되었나 확인한다.\n",
    "parent1 = Parent()\n",
    "print(parent1)\n",
    "parent2 = Parent('홍길동', True)\n",
    "print(parent2)\n",
    "parent3 = Parent('향단이', False)\n",
    "print(parent3)"
   ]
  },
  {
   "cell_type": "code",
   "execution_count": 9,
   "metadata": {},
   "outputs": [],
   "source": [
    "#클래스 상속\n",
    "#상속이란 부모 클래스에서 정의한 멤버 변수와 함수를 자식 클래스에서 별도로 정의하지 않고도 정의한 것처럼 사용할 수 있게 해주는 기능을 말한다.\n",
    "\n",
    "#상속의 형식\n",
    "#class 자식클래스이름(부모클래스이름)"
   ]
  },
  {
   "cell_type": "code",
   "execution_count": 25,
   "metadata": {},
   "outputs": [],
   "source": [
    "#자식(허위, 서브, 파생)클래스\n",
    "#부모(Parent) 클래스를 상속받는 자식(Child) 클래스를 만든다.\n",
    "class Child(Parent):\n",
    "    #부모 클래스로부터 __init__(self, name = '무명씨', gender = False), self.name, self.gender 를 상속받았으므로\n",
    "    #별도의 선언과정 없이 사용할 수 있다.\n",
    "    def __init__(self, name = '무명씨', gender = False, age = 0, nickname = '없음'):\n",
    "        #부모 클래스로부터 상속받은 멤버 변수는 부모 클래스의 생성자를 호출해서 초기화시킨다.\n",
    "        #super() => 부모 클래스를 의미한다.\n",
    "        super().__init__(name, gender)#부모 클래스의 생성자 __init__(self, name='무명씨', gender=False)를 호출한다.\n",
    "        #자식 클래스에서 필요한 멤버 변수를 선언하고 초기화시킨다.\n",
    "        self.age = age\n",
    "        self.nickname = nickname\n",
    "        \n",
    "     #부모 클래스에서 상속된 __str__(self)함수는 이름과 성별만 출력하는 기능이 정의된 함수이다.\n",
    "    #자식 클래스는 이름과 성별 이외에 나이와 별명 데이터도 처리하고 있으므로 부모 클래스에서 상속받은 __str__(self)\n",
    "    #함수로는 나이와 별명을 출력할 수 없다.\n",
    "    #부모 클래스에서 상속받은 함수의 기능을 무시하고 자식 클래스에서 함수를 다시 만들어 사용해야 한다.\n",
    "    #부모 클래스에서 상속받은 함수를 자식 클래스에서 다시 만드는 것을 재정의(Override)라 부른다.\n",
    "    #부모 클래스에서 상속받은 함수를 자식 클래스에서 다시 정의하면 부모 클래스로부터 상속받은 함수는 무시되고 자식 클래스에서 다시 정의한 함수가 실행된다.\n",
    "    def __str__(self):\n",
    "        return '{}({}) - {}, {}'.format(self.name, '남' if self.gender else '여', self.age, self.nickname)"
   ]
  },
  {
   "cell_type": "code",
   "execution_count": 20,
   "metadata": {},
   "outputs": [
    {
     "name": "stdout",
     "output_type": "stream",
     "text": [
      "무명씨\n",
      "False\n",
      "무명씨(여)\n",
      "0\n",
      "없음\n"
     ]
    }
   ],
   "source": [
    "child1 = Child()\n",
    "print(child1.name)\n",
    "print(child1.gender)\n",
    "print(child1)\n",
    "print(child1.age)\n",
    "print(child1.nickname)"
   ]
  },
  {
   "cell_type": "code",
   "execution_count": 26,
   "metadata": {
    "scrolled": true
   },
   "outputs": [
    {
     "name": "stdout",
     "output_type": "stream",
     "text": [
      "임꺽정(남) - 35, 도적\n"
     ]
    }
   ],
   "source": [
    "child2 = Child('임꺽정', True, 35, '도적')\n",
    "print(child2)"
   ]
  }
 ],
 "metadata": {
  "kernelspec": {
   "display_name": "Python 3",
   "language": "python",
   "name": "python3"
  },
  "language_info": {
   "codemirror_mode": {
    "name": "ipython",
    "version": 3
   },
   "file_extension": ".py",
   "mimetype": "text/x-python",
   "name": "python",
   "nbconvert_exporter": "python",
   "pygments_lexer": "ipython3",
   "version": "3.7.6"
  }
 },
 "nbformat": 4,
 "nbformat_minor": 4
}
