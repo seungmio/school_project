{
 "cells": [
  {
   "cell_type": "code",
   "execution_count": 17,
   "metadata": {},
   "outputs": [],
   "source": [
    "class BinaryTree:\n",
    "    #생성자에서 이진트리의 노드를 만든다.\n",
    "    def __init__(self, data = None):\n",
    "        self.left = None #왼쪽 자식 노드의 주소를 기억한다.\n",
    "        self.data = data #트리에 저장할 데이터\n",
    "        self.right = None #오른쪽 자식 노드의 주소를 기억한다.\n",
    "        \n",
    "    #트리에 노드를 넣어주는 메소드\n",
    "    def insert(self, data):\n",
    "        #트리에 넣어줄 데이터의 값과 부모 노드의 데이터 값을 비교해서 트리에 데이터를 삽입한다.\n",
    "        #트리에 삽입할 데이터가 부모 노드의 데이터보다 작으면 부모 노드의 왼쪽에 삽입한다.\n",
    "        #트리에 삽입할 데이터가 부모 노드의 데이터보다 크면 부모 노드의 오른쪽에 삽입한다.\n",
    "        print('이진트리에 삽입하려는 데이터 {}의 부모 노드는 {}입니다.'.format(data, self.data))\n",
    "        \n",
    "        #삽입하려는 데이터가 부모 데이터보다 작은가?\n",
    "        if data < self.data:\n",
    "            #부모 노드의 왼쪽에 삽입한다.\n",
    "            print('부모 노드의 데이터가 크기 때문에 부모 노드의 왼쪽에 데이터를 삽입한다.')\n",
    "            #부모 노드의 왼쪽 링크(self.left)가 비어(None)있어야 데이터를 삽입할 수 있다.\n",
    "            if self.left is None:\n",
    "                #부모 노드의 왼쪽 링크가 비어있으므로 데이터를 추가한다.\n",
    "                print('부모({})의 왼쪽에 {} 추가 가능'.format(self.data, data))\n",
    "                #새 데이터를 추가해야 하므로 이진트리에 추가할 데이터로 BinaryTree 클래스 객체를 생성해서 부모 노드의 비어있는 \n",
    "                #왼쪽 링크에 생성된 BinaryTree 클래스 객체의 주소를 넣어준다.  \n",
    "                self.left = BinaryTree(data)\n",
    "                print('부모({}) 왼쪽에 {} 추가 완료'.format(self.data, data))\n",
    "            else:\n",
    "                #부모 노드의 왼쪽 링크가 비어있지 않기 때문에 데이터를 추가할 수 없다.\n",
    "                print('부모({}) 왼쪽에 {}이(가) 있기 때문에 {} 추가가 불가능하므로 부모 왼쪽 노드 {}로 가서 insert() 함수를 '\\\n",
    "                     '실행한다.'.format(self.data, self.left.data, data, self.left.data))\n",
    "                \n",
    "        #삽입하려는 데이터가 부모 데이터보다 큰가?\n",
    "        elif data > self.data:\n",
    "            #부모 노드의 오른쪽에 삽입한다.\n",
    "            print('부모 노드의 데이터가 작기 때문에 부모 노드의 오른쪽에 데이터를 삽입한다.')\n",
    "            #부모 노드의 오른쪽 링크(self.right)가 비어(None)있어야 데이터를 삽입할 수 있다.\n",
    "            if self.right is None:\n",
    "                #부모 노드의 오른쪽 링크가 비어있으므로 데이터를 추가한다.\n",
    "                print('부모({})의 오른쪽에 {} 추가 가능'.format(self.data, data))\n",
    "                #새 데이터를 추가해야 하므로 이진트리에 추가할 데이터로 BinaryTree 클래스 객체를 생성해서 부모 노드의 비어있는 \n",
    "                #오른쪽 링크에 생성된 BinaryTree 클래스 객체의 주소를 넣어준다.\n",
    "                self.right = BinaryTree(data)\n",
    "                print('부모({}) 오른쪽에 {} 추가 완료'.format(self.data, data))\n",
    "            else:\n",
    "                #부모 노드의 오른쪽 링크가 비어있지 않기 때문에 데이터를 추가할 수 없다.\n",
    "                print('부모({}) 오른쪽에 {}이(가) 있기 때문에 {} 추가가 불가능하므로 부모 오른쪽 노드 {}로 가서 insert() 함수를 '\\\n",
    "                     '실행한다.'.format(self.data, self.right.data, data, self.right.data))\n",
    "                \n",
    "        #삽입하려는 데이터와 부모 데이터보다 같은가?\n",
    "        #삽입하려는 데이터가 이미 트리에 존재하는가?\n",
    "        else:\n",
    "            print('{}는(은) 트리에 존재하는 데이터입니다.')"
   ]
  },
  {
   "cell_type": "code",
   "execution_count": 18,
   "metadata": {},
   "outputs": [
    {
     "name": "stdout",
     "output_type": "stream",
     "text": [
      "이진트리에 삽입하려는 데이터 6의 부모 노드는 12입니다.\n",
      "부모 노드의 데이터가 크기 때문에 부모 노드의 왼쪽에 데이터를 삽입한다.\n",
      "부모(12)의 왼쪽에 6 추가 가능\n",
      "부모(12) 왼쪽에 6 추가 완료\n",
      "============================================================\n",
      "이진트리에 삽입하려는 데이터 20의 부모 노드는 12입니다.\n",
      "부모 노드의 데이터가 작기 때문에 부모 노드의 오른쪽에 데이터를 삽입한다.\n",
      "부모(12)의 오른쪽에 20 추가 가능\n",
      "부모(12) 오른쪽에 20 추가 완료\n",
      "============================================================\n"
     ]
    }
   ],
   "source": [
    "#이진트리의 root 노드를 만든다.\n",
    "root = BinaryTree(12)\n",
    "#이진트리에 데이터를 넣어준다.\n",
    "root.insert(6)\n",
    "print('=' * 60)\n",
    "root.insert(20)\n",
    "print('=' * 60)"
   ]
  },
  {
   "cell_type": "code",
   "execution_count": null,
   "metadata": {},
   "outputs": [],
   "source": [
    "#이진트리의 운행은 같은 노드를 중복해서 방문하지 않고 모든 노드를 방문하는 방법으로 부모(root) 노드를 언제 방문하느냐에 따라\n",
    "#아래와 같이 3가지 방법으로 나눈다.\n",
    "#inorder : Left => Root => Right : 3 => \n",
    "#preorder : Root => Left => Right : 12 =>\n",
    "#postorder : Left => Right => Root : 3 => "
   ]
  }
 ],
 "metadata": {
  "kernelspec": {
   "display_name": "Python 3",
   "language": "python",
   "name": "python3"
  },
  "language_info": {
   "codemirror_mode": {
    "name": "ipython",
    "version": 3
   },
   "file_extension": ".py",
   "mimetype": "text/x-python",
   "name": "python",
   "nbconvert_exporter": "python",
   "pygments_lexer": "ipython3",
   "version": "3.7.6"
  }
 },
 "nbformat": 4,
 "nbformat_minor": 4
}
