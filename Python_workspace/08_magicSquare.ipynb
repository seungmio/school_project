{
 "cells": [
  {
   "cell_type": "code",
   "execution_count": 4,
   "metadata": {},
   "outputs": [],
   "source": [
    "#마방진(가로, 세로, 대각선 방향의 숫자 합계가 모두 같은 배열)만들기\n",
    "#최초의 '1'이 채워지는 자리는 첫 줄 정 가운데 열이다. => 홀수차 정방행렬(행과 열의 개수가 같은 행렬)만 가능하다.\n",
    "#직전에 채워진 숫자의 값에 따라서 다음에 채워질 숫자의 위치가 결정된다.\n",
    "#직전에 채워진 숫자가 행렬의 차수(n)의 배수면 다음 숫자는 아래줄에 채운다. => 행 + 1\n",
    "#직전에 채워진 숫자가 n의 배수가 아니면 다음 숫자는 오른쪽 위 방향으로 채운다. => 행 - 1, 열 + 1\n",
    "#행이 0보다 작아지면 행의 위치를 마지막 위치로 변경한 후 채우고 열이 행렬의 차수와 같아지면 열의 위치를 0으로 변경한다."
   ]
  },
  {
   "cell_type": "code",
   "execution_count": 16,
   "metadata": {},
   "outputs": [
    {
     "name": "stdout",
     "output_type": "stream",
     "text": [
      "[[0 0 0 0 0]\n",
      " [0 0 0 0 0]\n",
      " [0 0 0 0 0]\n",
      " [0 0 0 0 0]\n",
      " [0 0 0 0 0]]\n"
     ]
    }
   ],
   "source": [
    "#1차원 리스트 만들기\n",
    "a = [0 for i in range(5)] #0이 5번 반복되는 1차원 리스트\n",
    "\n",
    "#마방진 만들기\n",
    "#2차원 리스트 => 리스트 이름 [[0] * 열의개수 for 변수 in range(행의개수)]\n",
    "b = [[0] * 5 for i in range(5)]\n",
    "\n",
    "import numpy as np\n",
    "c = np.array(b)\n",
    "print(c)"
   ]
  },
  {
   "cell_type": "code",
   "execution_count": 19,
   "metadata": {},
   "outputs": [
    {
     "name": "stdout",
     "output_type": "stream",
     "text": [
      " 0  0  0  0  0 \n",
      " 0  0  0  0  0 \n",
      " 0  0  0  0  0 \n",
      " 0  0  0  0  0 \n",
      " 0  0  0  0  0 \n"
     ]
    }
   ],
   "source": [
    "for i in range(5): #행\n",
    "    for j in range(5): #열\n",
    "        print('{0:2d}'.format(b[i][j]), end = ' ')\n",
    "    print()"
   ]
  },
  {
   "cell_type": "code",
   "execution_count": 22,
   "metadata": {},
   "outputs": [
    {
     "name": "stdout",
     "output_type": "stream",
     "text": [
      "17 24  1  8 15 \n",
      "23  5  7 14 16 \n",
      " 4  6 13 20 22 \n",
      "10 12 19 21  3 \n",
      "11 18 25  2  9 \n"
     ]
    }
   ],
   "source": [
    "#5행 5열인 2차원 리스트를 선언한다.\n",
    "a = [[0] * 5 for i in range(5)]\n",
    "#5행 5열일 경우 최초의 '1'이 채워질 위치를 계산한다.\n",
    "i = 0 #행\n",
    "j = 2 #열\n",
    "\n",
    "#5행 5열의 리스트에 숫자를 채워야 하므로 5의 제곱만을 반복하여 마방진에 숫자를 채운다.\n",
    "for k in range(1, 5**2 + 1):\n",
    "    a[i][j] = k\n",
    "    #마방진에 채운 숫자가 5의 배수인가 판단한다.\n",
    "    if k % 5 == 0:\n",
    "        #5의 배수면 다음에 채워질 숫자의 위치는 행만 1증가시킨다.\n",
    "        i += 1\n",
    "    else:\n",
    "        #5의 배수가 아니면 다음에 채워질 숫자의 위치는 행은 1감소, 열은 1증가시킨다.\n",
    "        i -= 1\n",
    "        #행이 감소하다가 0보다 작아지면 마지막 행으로 행의 위치를 조정한다.\n",
    "        if i < 0:\n",
    "            i = 4\n",
    "        j += 1\n",
    "        #열이 증가하다 5가되면 첫번째 열로 열의 위치를 조정한다.\n",
    "        if j >= 5:\n",
    "            j = 0\n",
    "#===for k\n",
    "\n",
    "for i in range(5): #행\n",
    "    for j in range(5): #열\n",
    "        print('{0:2d}'.format(a[i][j]), end = ' ')\n",
    "    print()"
   ]
  },
  {
   "cell_type": "code",
   "execution_count": 4,
   "metadata": {},
   "outputs": [
    {
     "name": "stdout",
     "output_type": "stream",
     "text": [
      "3이상인 홀수를 입력하세요 : 7\n",
      "30 39 48  1 10 19 28 \n",
      "38 47  7  9 18 27 29 \n",
      "46  6  8 17 26 35 37 \n",
      " 5 14 16 25 34 36 45 \n",
      "13 15 24 33 42 44  4 \n",
      "21 23 32 41 43  3 12 \n",
      "22 31 40 49  2 11 20 \n"
     ]
    }
   ],
   "source": [
    "#작성할 마방진의 차수를 3이상인 홀수로 입력받는다.\n",
    "while True:\n",
    "    n = int(input('3이상인 홀수를 입력하세요 : '))\n",
    "    if n >= 3 and n % 2 == 1:\n",
    "        break\n",
    "    print('홀수를 입력하세요.')\n",
    "\n",
    "#n행 n열인 2차원 리스트를 만든다. \n",
    "a = [[0] * n for i in range(n)]\n",
    "i = 0 \n",
    "#행렬의 차수에 따라서 최초의 '1'이 채워질 열을 계산한다.\n",
    "j = n // 2 \n",
    "\n",
    "for k in range(1, n**2 + 1):\n",
    "    a[i][j] = k\n",
    "    if k % n == 0:\n",
    "        i += 1\n",
    "    else:\n",
    "        i -= 1\n",
    "        if i < 0:\n",
    "            i = n - 1\n",
    "        j += 1\n",
    "        if j >= n:\n",
    "            j = 0\n",
    "\n",
    "for i in range(n):\n",
    "    for j in range(n):\n",
    "        print('{0:2d}'.format(a[i][j]), end = ' ')\n",
    "    print()"
   ]
  }
 ],
 "metadata": {
  "kernelspec": {
   "display_name": "Python 3",
   "language": "python",
   "name": "python3"
  },
  "language_info": {
   "codemirror_mode": {
    "name": "ipython",
    "version": 3
   },
   "file_extension": ".py",
   "mimetype": "text/x-python",
   "name": "python",
   "nbconvert_exporter": "python",
   "pygments_lexer": "ipython3",
   "version": "3.7.6"
  }
 },
 "nbformat": 4,
 "nbformat_minor": 4
}
