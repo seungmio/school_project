{
 "cells": [
  {
   "cell_type": "code",
   "execution_count": 1,
   "metadata": {},
   "outputs": [],
   "source": [
    "#함수의 구조\n",
    "#def 함수이름([인수, ...]): #함수의 인수는 필요없으면 생략할 수 있고 필요하면 필요한 만큼 사용할 수 있다.\n",
    "    #함수가 실행할 문장\n",
    "    #...\n",
    "    #[return 함수를 실행한 결과 값] #함수를 실행한 결과가 없다면 return을 생략할 수 있다."
   ]
  },
  {
   "cell_type": "code",
   "execution_count": 2,
   "metadata": {},
   "outputs": [],
   "source": [
    "#함수의 실행 순서\n",
    "#프로그램에서 함수가 호출되면 호출된 함수로 제어가 넘어간다.\n",
    "#호출된 함수에서 정의한 기능을 끝까지 모두 실행하거나 return을 만나면 함수가 종료되고 함수를 호출한 문장으로 돌아간다.\n",
    "#return뒤에 값이 있으면 값을 가지고 돌아가고 return뒤에 값이 없거나 return 자체가 없으면 None을 가지고 돌아간다."
   ]
  },
  {
   "cell_type": "code",
   "execution_count": 1,
   "metadata": {},
   "outputs": [],
   "source": [
    "#가장 일반적인 함수의 모양\n",
    "#a, b 2개의 데이터를 인수로 넘겨받아 덧셈을 실행한 후 결과를 return하는 함수\n",
    "def add(a, b): #함수가 호출당한다. => 가인수\n",
    "    print('add(a, b) 함수가 실행됩니다.')\n",
    "    result = a + b\n",
    "    a = 999\n",
    "    print('가인수 a : {}'.format(a))\n",
    "    return result"
   ]
  },
  {
   "cell_type": "code",
   "execution_count": null,
   "metadata": {},
   "outputs": [],
   "source": [
    "#실인수와 가인수의 이름은 반드시 같아야 할 필요는 없지만 인수의 개수는 반드시 같아야 한다. \n",
    "#예외적으로 디폴트 인수를 사용하면 인수의 개수가 달라도 함수가 정상적으로 실행된다.\n",
    "#실인수와 가인수는 이름이 같더라도 서로 다른 독립된 기억 공간을 사용하기 때문에 가인수의 값이 변경되더라도 실인수의 값은 변경되지 않는다."
   ]
  },
  {
   "cell_type": "code",
   "execution_count": 11,
   "metadata": {},
   "outputs": [
    {
     "name": "stdout",
     "output_type": "stream",
     "text": [
      "정수 2개를 입력하세요 : 1 7\n",
      "add(a, b) 함수가 실행됩니다.\n",
      "가인수 a : 999\n",
      "실인수 a : 1\n",
      "8\n"
     ]
    }
   ],
   "source": [
    "a, b = map(int, input('정수 2개를 입력하세요 : ').split())\n",
    "result = add(a, b) #함수 호출 => 실인수\n",
    "print('실인수 a : {}'.format(a))\n",
    "print(result)"
   ]
  }
 ],
 "metadata": {
  "kernelspec": {
   "display_name": "Python 3",
   "language": "python",
   "name": "python3"
  },
  "language_info": {
   "codemirror_mode": {
    "name": "ipython",
    "version": 3
   },
   "file_extension": ".py",
   "mimetype": "text/x-python",
   "name": "python",
   "nbconvert_exporter": "python",
   "pygments_lexer": "ipython3",
   "version": "3.7.6"
  }
 },
 "nbformat": 4,
 "nbformat_minor": 4
}
