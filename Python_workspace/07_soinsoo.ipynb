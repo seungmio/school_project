{
 "cells": [
  {
   "cell_type": "code",
   "execution_count": 1,
   "metadata": {},
   "outputs": [
    {
     "name": "stdout",
     "output_type": "stream",
     "text": [
      "소인수분해 할 숫자 입력 : 15\n",
      "입력 : 15 => 3 * 5\n",
      " * 5소인수분해 할 숫자 입력 : 16\n",
      "입력 : 16 => 2 * 2 * 2 * 2\n",
      " * 2 * 2 * 2소인수분해 할 숫자 입력 : 1\n",
      "2보다 작은 숫자가 입력되어 프로그램을 종료합니다.\n"
     ]
    }
   ],
   "source": [
    "#소인수분해하려는 숫자가 2 미만이면 소인수분해를 종료한다.\n",
    "while True:\n",
    "    n = int(input('소인수분해 할 숫자 입력 : '))\n",
    "    if n < 2:\n",
    "        print('2보다 작은 숫자가 입력되어 프로그램을 종료합니다.')\n",
    "        break\n",
    "        \n",
    "    #소인수 분해에 사용할 기억장소 초기화\n",
    "    s = [] #분해한 소인수를 기억할 빈 리스트 => 데이터 추가는 append()메소드를 사용해야 한다.\n",
    "    c = 0 #소인수의 개수 => 소인수가 발생될 때마다 1씩 증가시킨다.\n",
    "    number = n #소인수분해 결과 출력에 사용하기 위해서 입력받은 숫자를 저장해둔다.\n",
    "    \n",
    "    #소인수분해를 시작한다. => 입력한 크기에 따라 반복횟수가 다르므로 무한루프를 돌려 처리한다.\n",
    "    while True:\n",
    "        k = 2 #소인수분해를 시작할 수 => 1은 소수가 아니므로 2부터 시작해서 n까지 증가시킨다.\n",
    "        while True:\n",
    "            r = n % k\n",
    "            if r == 0: #소인수분해가 되었는가?\n",
    "                break #소인수분해가 되었으면 무한루프를 탈출한다.\n",
    "            #===if\n",
    "            k += 1 #소인수분해가 안되었으므로 k를 1증가시킨 후 다시 소인수분해를 실행한다.\n",
    "        #===while True\n",
    "        \n",
    "        c += 1 #소인수의 개수를 1 증가시킨다. => 소인수의 개수가 1개면 자기 자신으로 나눠서 분해된 것이다. => 소수\n",
    "        s.append(k) #소인수를 리스트에 추가한다.\n",
    "        n //= k #다음 소인수를 계산하기 위해서 소인수분해하고 남은 숫자(몫)을 n에 넣어준다.\n",
    "        if n == 1: #소인수분해가 끝났는가?\n",
    "            break #소인수분해가 완료되면 무한루프를 탈출한다.\n",
    "    #===while True\n",
    "    \n",
    "    #소인수분해 결과를 출력하기 위해서 소인수의 개수가 1인가(소수인가) 비교한다.\n",
    "    if c == 1:\n",
    "        print('입력 : {} => 소수'.format(number))\n",
    "    else:\n",
    "        print('입력 : {} => '.format(number), end = '')\n",
    "        for i in range(len(s) - 1):\n",
    "            print(s[i], end = ' * ')\n",
    "        print(s[-1]) #마지막에 나오는 숫자는 따로 출력한다.\n",
    "        for i in range(len(s)):\n",
    "            if i > 0:\n",
    "                print(' * ', end = '')\n",
    "                print(s[i], end = '')\n",
    "#=== while True"
   ]
  }
 ],
 "metadata": {
  "kernelspec": {
   "display_name": "Python 3",
   "language": "python",
   "name": "python3"
  },
  "language_info": {
   "codemirror_mode": {
    "name": "ipython",
    "version": 3
   },
   "file_extension": ".py",
   "mimetype": "text/x-python",
   "name": "python",
   "nbconvert_exporter": "python",
   "pygments_lexer": "ipython3",
   "version": "3.7.6"
  }
 },
 "nbformat": 4,
 "nbformat_minor": 4
}
