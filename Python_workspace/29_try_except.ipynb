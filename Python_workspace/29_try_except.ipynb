{
 "cells": [
  {
   "cell_type": "code",
   "execution_count": 2,
   "metadata": {},
   "outputs": [],
   "source": [
    "#오류 처리\n",
    "#프로그램을 실행할 때 잘못 동작되는 것을 방지하기 위해서 오류가 발생된다. => 오류가 발생되면 프로그램이 멈춘다.\n",
    "#try-except를 사용하면 오류가 발생되었을 때 별도의 처리를 하거나 오류를 무시하고 프로그램을 실행할 수 있다.\n",
    "\n",
    "#오류가 발생될 것으로 예상되는 문장들을 try 블록에 코딩하고 \n",
    "#try 블록에 코딩된 내용을 실행하다가 오류가 발생되면 더이상 try 블록의 내용을 실행하지 않고 해당 오류의 except블록에 코딩된 내용을 실행한다.\n",
    "#try: #필수\n",
    "#    오류가 발생될 것으로 예상되는 문장\n",
    "#...\n",
    "#except [오류 이름 [as 변수 이름]]: #필수 => []안의 오류 이름과 변수 이름은 생략할 수 있다.\n",
    "#    오류가 발생되면 실행할 문장\n",
    "#...\n",
    "#finally: #선택 => 필요한 경우 사용한다.\n",
    "#    오류 발생 여부와 상관없이 무조건 실행할 문장이 있다면 finally블록에 코딩한다.\n",
    "#..."
   ]
  },
  {
   "cell_type": "code",
   "execution_count": 2,
   "metadata": {},
   "outputs": [
    {
     "name": "stdout",
     "output_type": "stream",
     "text": [
      "4.0\n",
      "실행완료\n"
     ]
    }
   ],
   "source": [
    "try:\n",
    "    print(4 / 1) #이 문장은 정상적으로 실행된다.\n",
    "    print(4 / 0) #ZeroDivisionError가 발생된다.\n",
    "    print(4 / 4) #정상적인 문장이지만 앞에서 오류가 발생되면 이 문장은 실행되지 않는다.\n",
    "except:\n",
    "    #print('나눗셈은 0으로 할 수 없습니다.') #오류 메시지\n",
    "    #오류가 발생되면 아무런 일도 하지 않고 오류를 무시하려면 아래와 같이 pass를 사용하면 된다.\n",
    "    pass\n",
    "print('실행완료')"
   ]
  },
  {
   "cell_type": "code",
   "execution_count": 10,
   "metadata": {
    "scrolled": true
   },
   "outputs": [
    {
     "name": "stdout",
     "output_type": "stream",
     "text": [
      "3\n",
      "리스트의 인덱스 지정이 올바르지 않습니다.\n",
      "실행 종료\n"
     ]
    }
   ],
   "source": [
    "data = [1, 2, 3]\n",
    "try:\n",
    "    print(data[2])\n",
    "    print(data[3]) #IndexError가 발생된다.\n",
    "    print(data[-1])\n",
    "except:\n",
    "    print('리스트의 인덱스 지정이 올바르지 않습니다.')\n",
    "print('실행 종료')"
   ]
  },
  {
   "cell_type": "code",
   "execution_count": 3,
   "metadata": {
    "scrolled": true
   },
   "outputs": [
    {
     "name": "stdout",
     "output_type": "stream",
     "text": [
      "데이터 타입이 올바르지 않습니다.\n",
      "오류가 발생되던 발생되지 않던 무조건 실행할 문장이 있다면 이곳에 코딩한다.\n",
      "실행 완료\n"
     ]
    }
   ],
   "source": [
    "data = [1, 2, 3]\n",
    "string = 'abc'\n",
    "try:\n",
    "    #print(4 / 0) #ZeroDivisionError\n",
    "    #print(data[3]) #IndexError\n",
    "    #print(string)\n",
    "    print('%d' % string) #TypeError\n",
    "#except뒤에 오류 이름을 쓰면 지정된 오류가 발생될 때에만 오류를 처리한다.\n",
    "except ZeroDivisionError:\n",
    "    print('나눗셈은 0으로 처리할 수 없습니다.')\n",
    "#except 뒤에 오류 이름을 쓰고 as 다음에 변수를 지정하면 파이썬이 출력하는 오류 메시지가 변수에 저장된다.\n",
    "except IndexError as err:\n",
    "    print('리스트의 인덱스 지정이 올바르지 않습니다.')\n",
    "    print(err)\n",
    "#except만 사용하면 오류 종류에 상관없이 모든 오류를 처리할 수 있다.    \n",
    "#except는 위의 ZeroDivisionError, IndexError, FileNotFoundError를 제외한 오류가 발생되면 이곳에 코딩한 문장이 실행된다. \n",
    "except:\n",
    "    print('데이터 타입이 올바르지 않습니다.')\n",
    "finally:\n",
    "    print('오류가 발생되던 발생되지 않던 무조건 실행할 문장이 있다면 이곳에 코딩한다.')\n",
    "print('실행 완료')"
   ]
  },
  {
   "cell_type": "code",
   "execution_count": 9,
   "metadata": {},
   "outputs": [
    {
     "name": "stdout",
     "output_type": "stream",
     "text": [
      "['101', '2', '10', '111', '50']\n",
      "['10', '101', '111', '2', '50']\n",
      "['50', '2', '111', '101', '10']\n"
     ]
    }
   ],
   "source": [
    "data = ['101', '2', '10', '111', '50']\n",
    "print(data)\n",
    "data.sort()\n",
    "print(data)\n",
    "data.sort(reverse=True)\n",
    "print(data)"
   ]
  },
  {
   "cell_type": "code",
   "execution_count": 11,
   "metadata": {},
   "outputs": [
    {
     "name": "stdout",
     "output_type": "stream",
     "text": [
      "[101, 2, 10, 111, 50]\n",
      "[2, 10, 50, 101, 111]\n",
      "[111, 101, 50, 10, 2]\n"
     ]
    }
   ],
   "source": [
    "data = [101, 2, 10, 111, 50]\n",
    "print(data)\n",
    "data.sort()\n",
    "print(data)\n",
    "data.sort(reverse=True)\n",
    "print(data)"
   ]
  },
  {
   "cell_type": "code",
   "execution_count": 13,
   "metadata": {},
   "outputs": [
    {
     "name": "stdout",
     "output_type": "stream",
     "text": [
      "['101', 2, '010', 111, '50']\n"
     ]
    },
    {
     "ename": "TypeError",
     "evalue": "'<' not supported between instances of 'int' and 'str'",
     "output_type": "error",
     "traceback": [
      "\u001b[1;31m---------------------------------------------------------------------------\u001b[0m",
      "\u001b[1;31mTypeError\u001b[0m                                 Traceback (most recent call last)",
      "\u001b[1;32m<ipython-input-13-0b7fa11a8aef>\u001b[0m in \u001b[0;36m<module>\u001b[1;34m\u001b[0m\n\u001b[0;32m      1\u001b[0m \u001b[0mdata\u001b[0m \u001b[1;33m=\u001b[0m \u001b[1;33m[\u001b[0m\u001b[1;34m'101'\u001b[0m\u001b[1;33m,\u001b[0m \u001b[1;36m2\u001b[0m\u001b[1;33m,\u001b[0m \u001b[1;34m'010'\u001b[0m\u001b[1;33m,\u001b[0m \u001b[1;36m111\u001b[0m\u001b[1;33m,\u001b[0m \u001b[1;34m'50'\u001b[0m\u001b[1;33m]\u001b[0m\u001b[1;33m\u001b[0m\u001b[1;33m\u001b[0m\u001b[0m\n\u001b[0;32m      2\u001b[0m \u001b[0mprint\u001b[0m\u001b[1;33m(\u001b[0m\u001b[0mdata\u001b[0m\u001b[1;33m)\u001b[0m\u001b[1;33m\u001b[0m\u001b[1;33m\u001b[0m\u001b[0m\n\u001b[1;32m----> 3\u001b[1;33m \u001b[0mdata\u001b[0m\u001b[1;33m.\u001b[0m\u001b[0msort\u001b[0m\u001b[1;33m(\u001b[0m\u001b[1;33m)\u001b[0m\u001b[1;33m\u001b[0m\u001b[1;33m\u001b[0m\u001b[0m\n\u001b[0m\u001b[0;32m      4\u001b[0m \u001b[0mprint\u001b[0m\u001b[1;33m(\u001b[0m\u001b[0mdata\u001b[0m\u001b[1;33m)\u001b[0m\u001b[1;33m\u001b[0m\u001b[1;33m\u001b[0m\u001b[0m\n\u001b[0;32m      5\u001b[0m \u001b[0mdata\u001b[0m\u001b[1;33m.\u001b[0m\u001b[0msort\u001b[0m\u001b[1;33m(\u001b[0m\u001b[0mreverse\u001b[0m\u001b[1;33m=\u001b[0m\u001b[1;32mTrue\u001b[0m\u001b[1;33m)\u001b[0m\u001b[1;33m\u001b[0m\u001b[1;33m\u001b[0m\u001b[0m\n",
      "\u001b[1;31mTypeError\u001b[0m: '<' not supported between instances of 'int' and 'str'"
     ]
    }
   ],
   "source": [
    "data = ['101', 2, '010', 111, '50']\n",
    "print(data)\n",
    "data.sort()\n",
    "print(data)\n",
    "data.sort(reverse=True)\n",
    "print(data)"
   ]
  },
  {
   "cell_type": "code",
   "execution_count": 14,
   "metadata": {},
   "outputs": [
    {
     "name": "stdout",
     "output_type": "stream",
     "text": [
      "정렬할 데이터를 입력하세요(999가 입력되면 정렬을 시작합니다.) : a\n",
      "정렬할 데이터를 입력하세요(999가 입력되면 정렬을 시작합니다.) : 11\n",
      "정렬할 데이터를 입력하세요(999가 입력되면 정렬을 시작합니다.) : b\n",
      "정렬할 데이터를 입력하세요(999가 입력되면 정렬을 시작합니다.) : 101\n",
      "정렬할 데이터를 입력하세요(999가 입력되면 정렬을 시작합니다.) : 01\n",
      "정렬할 데이터를 입력하세요(999가 입력되면 정렬을 시작합니다.) : b\n",
      "정렬할 데이터를 입력하세요(999가 입력되면 정렬을 시작합니다.) : 999\n",
      "[1, 11, 101, 'a', 'b', 'b']\n"
     ]
    }
   ],
   "source": [
    "#숫자와 문자가 섞여서 입력될 때 오름차순으로 정렬해서 출력하기, '999'가 입력되면 정렬을 시작한다.\n",
    "number = [] #입력되는 숫자가 저장될 빈 리스트\n",
    "alpha = [] #입력되는 문자가 저장될 빈 리스트\n",
    "\n",
    "while True:\n",
    "    var = input('정렬할 데이터를 입력하세요(999가 입력되면 정렬을 시작합니다.) : ')\n",
    "    if var == '999':\n",
    "        break\n",
    "    #입력받은 데이터가 0~999 사이의 문자로 구성된 경우와 그렇지 않은 경우를 각각 number, alpha 리스트에 저장한다.\n",
    "    try:\n",
    "        number.append(int(var))\n",
    "    except:\n",
    "        alpha.append(var)\n",
    "#=== while True\n",
    "number.sort()\n",
    "alpha.sort()\n",
    "print(number + alpha)"
   ]
  }
 ],
 "metadata": {
  "kernelspec": {
   "display_name": "Python 3",
   "language": "python",
   "name": "python3"
  },
  "language_info": {
   "codemirror_mode": {
    "name": "ipython",
    "version": 3
   },
   "file_extension": ".py",
   "mimetype": "text/x-python",
   "name": "python",
   "nbconvert_exporter": "python",
   "pygments_lexer": "ipython3",
   "version": "3.7.6"
  }
 },
 "nbformat": 4,
 "nbformat_minor": 4
}
