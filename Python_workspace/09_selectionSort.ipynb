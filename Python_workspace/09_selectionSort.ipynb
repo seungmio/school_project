{
 "cells": [
  {
   "cell_type": "code",
   "execution_count": 1,
   "metadata": {},
   "outputs": [
    {
     "name": "stdout",
     "output_type": "stream",
     "text": [
      "[1, 2, 3, 4, 5]\n"
     ]
    }
   ],
   "source": [
    "arr = [3, 4, 5, 1, 2]\n",
    "for i in range(len(arr) - 1):\n",
    "    for j in range(i + 1, len(arr)):\n",
    "        if arr[j] < arr[i]:\n",
    "             arr[j], arr[i] = arr[i], arr[j]\n",
    "print(arr)"
   ]
  },
  {
   "cell_type": "code",
   "execution_count": 6,
   "metadata": {},
   "outputs": [
    {
     "name": "stdout",
     "output_type": "stream",
     "text": [
      "1회전 결과 : [1, 8, 4, 9, 3]\n",
      "2회전 결과 : [1, 3, 8, 9, 4]\n",
      "3회전 결과 : [1, 3, 4, 9, 8]\n",
      "4회전 결과 : [1, 3, 4, 8, 9]\n",
      "정렬 결과 : [1, 3, 4, 8, 9]\n"
     ]
    }
   ],
   "source": [
    "data = [8, 3, 4, 9, 1]\n",
    "for i in range(4):\n",
    "    for j in range(i + 1, 5):\n",
    "        #오름차순 정렬 => 앞(i번째)의 데이터가 뒤(j번째)의 데이터보다 크면 두 기억장소의 데이터를 교환한다.\n",
    "        if data[i] > data[j]:\n",
    "            data[i], data[j] = data[j], data[i]\n",
    "        #===if\n",
    "    print('{}회전 결과 : {}'.format(i + 1, data))\n",
    "    #===for j => 회전 종료\n",
    "#for i => 정렬 종료\n",
    "print('정렬 결과 : {}'.format(data))"
   ]
  },
  {
   "cell_type": "code",
   "execution_count": 8,
   "metadata": {},
   "outputs": [
    {
     "name": "stdout",
     "output_type": "stream",
     "text": [
      "1회전 결과 : [9, 3, 4, 8, 1]\n",
      "2회전 결과 : [9, 8, 3, 4, 1]\n",
      "3회전 결과 : [9, 8, 4, 3, 1]\n",
      "4회전 결과 : [9, 8, 4, 3, 1]\n",
      "정렬 결과 : [9, 8, 4, 3, 1]\n"
     ]
    }
   ],
   "source": [
    "data = [8, 3, 4, 9, 1]\n",
    "for i in range(4):\n",
    "    for j in range(i + 1, 5):\n",
    "        #내림차순 정렬 => 앞(i번째)의 데이터가 뒤(j번째)의 데이터보다 작으면 두 기억장소의 데이터를 교환한다.\n",
    "        #부등호가 '>'일 경우 오름차순으로 정렬되고 '<'로 변경하면 내림차순으로 정렬된다.\n",
    "        if data[i] < data[j]:\n",
    "            data[i], data[j] = data[j], data[i]\n",
    "        #===if\n",
    "    print('{}회전 결과 : {}'.format(i + 1, data))\n",
    "    #===for j => 회전 종료\n",
    "#for i => 정렬 종료\n",
    "print('정렬 결과 : {}'.format(data))"
   ]
  },
  {
   "cell_type": "code",
   "execution_count": 9,
   "metadata": {},
   "outputs": [
    {
     "name": "stdout",
     "output_type": "stream",
     "text": [
      "1회전 결과 : [1, 8, 4, 9, 3, 6]\n",
      "2회전 결과 : [1, 3, 8, 9, 4, 6]\n",
      "3회전 결과 : [1, 3, 4, 9, 8, 6]\n",
      "4회전 결과 : [1, 3, 4, 6, 9, 8]\n",
      "5회전 결과 : [1, 3, 4, 6, 8, 9]\n",
      "정렬 결과 : [1, 3, 4, 6, 8, 9]\n"
     ]
    }
   ],
   "source": [
    "data = [8, 3, 4, 9, 1, 6]\n",
    "for i in range(len(data) - 1): #회전수(n - 1)번, 데이터를 선택하는 위치\n",
    "    for j in range(i + 1, len(data)): #선택된 데이터와 비교 대상이 되는 데이터의 위치\n",
    "        if data[i] > data[j]:\n",
    "            data[i], data[j] = data[j], data[i]\n",
    "    print('{}회전 결과 : {}'.format(i + 1, data))\n",
    "print('정렬 결과 : {}'.format(data))"
   ]
  }
 ],
 "metadata": {
  "kernelspec": {
   "display_name": "Python 3",
   "language": "python",
   "name": "python3"
  },
  "language_info": {
   "codemirror_mode": {
    "name": "ipython",
    "version": 3
   },
   "file_extension": ".py",
   "mimetype": "text/x-python",
   "name": "python",
   "nbconvert_exporter": "python",
   "pygments_lexer": "ipython3",
   "version": "3.7.6"
  }
 },
 "nbformat": 4,
 "nbformat_minor": 4
}
