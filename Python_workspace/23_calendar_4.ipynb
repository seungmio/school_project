{
 "cells": [
  {
   "cell_type": "code",
   "execution_count": 2,
   "metadata": {},
   "outputs": [],
   "source": [
    "#import된 모듈의 특정 함수만 import 시켜서 사용하려면 아래와 같이 import 시키면 된다.\n",
    "#from 모듈이름 import 함수이름 => from 다음에 지정한 모듈의 모든 함수를 import 시키지 않고 지정한 함수만 import 된다.\n",
    "#이와 같이 import 시키면 함수 이름 앞에 모듈 이름을 쓰지 않아도 된다.\n",
    "#from calendarModule import weekDay #calendarModule 이라는 모듈의 weekDay()함수만 import 시킨다.\n",
    "#from calendarModule import lastDay"
   ]
  },
  {
   "cell_type": "code",
   "execution_count": 10,
   "metadata": {},
   "outputs": [],
   "source": [
    "#위의 2문장에서 import 시키는 함수 weekDay(), lastDay()는 모두 calendarModule 모듈의 함수이므로 아래와 같이 사용할 수 있다.\n",
    "#from calendarModule import weekDay, lastDay"
   ]
  },
  {
   "cell_type": "code",
   "execution_count": 11,
   "metadata": {},
   "outputs": [],
   "source": [
    "#아래와 같이 코딩하면 calendarModule 모듈의 모든 함수를 import 시켜서 사용할 수 있다.\n",
    "from calendarModule import *"
   ]
  },
  {
   "cell_type": "code",
   "execution_count": 12,
   "metadata": {
    "scrolled": true
   },
   "outputs": [
    {
     "name": "stdout",
     "output_type": "stream",
     "text": [
      "달력을 출력하려는 년, 월을 입력하세요 : 2021 8\n",
      "----------------------------\n",
      "         2021년  8월\n",
      "----------------------------\n",
      " 일  월  화  수  목  금  토 \n",
      "----------------------------\n",
      "  1   2   3   4   5   6   7 \n",
      "  8   9  10  11  12  13  14 \n",
      " 15  16  17  18  19  20  21 \n",
      " 22  23  24  25  26  27  28 \n",
      " 29  30  31 \n",
      "----------------------------"
     ]
    }
   ],
   "source": [
    "year, month = map(int, input('달력을 출력하려는 년, 월을 입력하세요 : ').split())\n",
    "print('-' * 28)\n",
    "print('         {0:4d}년 {1:2d}월'.format(year, month))\n",
    "print('-' * 28)\n",
    "print(' 일  월  화  수  목  금  토 ')\n",
    "print('-' * 28)\n",
    "\n",
    "#1일이 출력될 요일을 맞추기 위해서 1일의 요일만큼 반복하며 빈 칸을 출력한다. => 빈 칸은 반복당 4칸씩 띄운다.\n",
    "for i in range(weekDay(year, month, 1)):\n",
    "    print('    ', end = '')\n",
    "    \n",
    "#1일 부터 달력을 출력할 달의 마지막 날짜까지 반복하며 달력을 출력한다.\n",
    "for i in range(1, lastDay(year, month) + 1):\n",
    "    print(' {0:2d} '.format(i), end = '')\n",
    "    #출력한 날짜(i)가 토요일이고 그 달의 마지막 날짜가 아니면 줄을 바꾼다.\n",
    "    if weekDay(year, month, i) == 6 and lastDay(year, month) != i:\n",
    "        print()\n",
    "print('\\n', end = '-' * 28)"
   ]
  },
  {
   "cell_type": "code",
   "execution_count": 9,
   "metadata": {},
   "outputs": [
    {
     "name": "stdout",
     "output_type": "stream",
     "text": [
      "Help on module calendarModule:\n",
      "\n",
      "NAME\n",
      "    calendarModule - # coding: utf-8\n",
      "\n",
      "FUNCTIONS\n",
      "    isLeapYear(year)\n",
      "        #인수로 년도를 넘겨받아 윤년, 평년을 판단해서 윤년이면 True, 평년이면 False를 리턴하는 함수\n",
      "        #윤년, 평년 판별식 => 년도가 4에 떨어지고 100에 떨어지지 않거나 400에 떨어지면 윤년\n",
      "        #return 값이 논리값(True 또는 False)인 함수의 이름은 'is'로 시작하는 것이 관행이다.\n",
      "    \n",
      "    lastDay(year, month)\n",
      "        #인수로 년, 월을 넘겨받아 그 달의 마지막 날짜를 리턴하는 함수\n",
      "    \n",
      "    totalDay(year, month, day)\n",
      "        #인수로 년, 월, 일을 넘겨받아 1년 1월 1일부터 지나온 날짜의 합계를 리턴하는 함수\n",
      "        #윤년 366일, 평년 365일\n",
      "    \n",
      "    weekDay(year, month, day)\n",
      "        #인수로 년, 월, 일을 넘겨받아 요일을 숫자로 리턴하는 함수\n",
      "        #일요일(0), 월요일(1), 화요일(2), 수요일(3), 목요일(4), 금요일(5), 토요일(6)\n",
      "\n",
      "FILE\n",
      "    c:\\python\\resource\\calendarmodule.py\n",
      "\n",
      "\n"
     ]
    }
   ],
   "source": [
    "#특정 모듈에 포함된 함수를 보고싶다면 모듈을 import 시킨 후 dir() 함수를 실행하면 볼 수 있다.\n",
    "#help() 함수를 실행하면 모듈에서 함수 작성시 입력한 주석(도움말)을 볼 수 있다.\n",
    "import calendarModule\n",
    "dir(calendarModule)\n",
    "help(calendarModule)"
   ]
  }
 ],
 "metadata": {
  "kernelspec": {
   "display_name": "Python 3",
   "language": "python",
   "name": "python3"
  },
  "language_info": {
   "codemirror_mode": {
    "name": "ipython",
    "version": 3
   },
   "file_extension": ".py",
   "mimetype": "text/x-python",
   "name": "python",
   "nbconvert_exporter": "python",
   "pygments_lexer": "ipython3",
   "version": "3.7.6"
  }
 },
 "nbformat": 4,
 "nbformat_minor": 4
}
