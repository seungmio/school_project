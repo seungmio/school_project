{
 "cells": [
  {
   "cell_type": "code",
   "execution_count": 10,
   "metadata": {},
   "outputs": [
    {
     "name": "stdout",
     "output_type": "stream",
     "text": [
      "save.txt 파일에서 읽기 완료\n"
     ]
    }
   ],
   "source": [
    "file = open('./data/save.txt', 'r')\n",
    "#readline() 메소드로 텍스트 파일의 내용을 1줄씩 읽어들인다.\n",
    "#텍스트 파일에 저장된 데이터가 몇 줄인지 알 수 없으므로 무한루프를 돌려서 읽는다.\n",
    "lines = []\n",
    "while True:\n",
    "    line = file.readline()\n",
    "    #텍스트 파일에서 읽어들인 데이터가 없을 경우 무한루프를 탈출시킨다.\n",
    "    if not line: #readline() 메소드로 읽어들인 데이터가 없는지, 파일의 끝인지\n",
    "        break\n",
    "    #print(line.strip())\n",
    "    #읽어들인 데이터가 빈 줄(읽어들인 데이터가 모두 공백)이면 리스트에 저장하지 않는다.\n",
    "    if len(line.strip()) != 0:\n",
    "        lines.append(line.strip())\n",
    "        \n",
    "file.close()\n",
    "print('save.txt 파일에서 읽기 완료')"
   ]
  },
  {
   "cell_type": "code",
   "execution_count": 9,
   "metadata": {},
   "outputs": [
    {
     "name": "stdout",
     "output_type": "stream",
     "text": [
      "['가나다라마바사']\n"
     ]
    }
   ],
   "source": [
    "print(lines)"
   ]
  },
  {
   "cell_type": "code",
   "execution_count": 13,
   "metadata": {},
   "outputs": [
    {
     "name": "stdout",
     "output_type": "stream",
     "text": [
      "<class 'list'>\n",
      "save.txt 파일에서 읽기 완료\n"
     ]
    }
   ],
   "source": [
    "file = open('./data/save.txt', 'r')\n",
    "#readlines() 메소드는 텍스트 파일의 전체 데이터를 한꺼번에 읽어서 리스트로 얻어온다.\n",
    "lines = file.readlines()\n",
    "print(type(lines)) #<class 'list'>\n",
    "file.close()\n",
    "print('save.txt 파일에서 읽기 완료')"
   ]
  },
  {
   "cell_type": "code",
   "execution_count": 14,
   "metadata": {},
   "outputs": [
    {
     "name": "stdout",
     "output_type": "stream",
     "text": [
      "['가나다라마바사\\n']\n"
     ]
    }
   ],
   "source": [
    "print(lines)"
   ]
  }
 ],
 "metadata": {
  "kernelspec": {
   "display_name": "Python 3",
   "language": "python",
   "name": "python3"
  },
  "language_info": {
   "codemirror_mode": {
    "name": "ipython",
    "version": 3
   },
   "file_extension": ".py",
   "mimetype": "text/x-python",
   "name": "python",
   "nbconvert_exporter": "python",
   "pygments_lexer": "ipython3",
   "version": "3.7.6"
  }
 },
 "nbformat": 4,
 "nbformat_minor": 4
}
