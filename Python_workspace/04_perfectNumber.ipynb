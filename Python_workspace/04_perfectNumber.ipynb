{
 "cells": [
  {
   "cell_type": "code",
   "execution_count": 1,
   "metadata": {},
   "outputs": [],
   "source": [
    "#완전수는 자기 자신을 제외한 양의 약수를 더했을 때 자기 자신이 되는 양의 정수를 말한다."
   ]
  },
  {
   "cell_type": "code",
   "execution_count": 2,
   "metadata": {},
   "outputs": [
    {
     "name": "stdout",
     "output_type": "stream",
     "text": [
      "1번째 완전수 =>    6\n",
      "2번째 완전수 =>   28\n",
      "3번째 완전수 =>  496\n",
      "4번째 완전수 => 8128\n",
      "완전수의 개수는 4개 입니다.\n"
     ]
    }
   ],
   "source": [
    "lm = 0 # 완전수의 개수를 세는 변수 => 완전수로 판단될 때마다 1씩 증가시킨다.\n",
    "#바깥 반복은 4 ~ 10000사이의 완전수를 판별해야 하므로 완전수인가 판별할 수(n)를 4 ~ 10000까지 1씩 증가시킨다.\n",
    "for n in range(4, 10001):\n",
    "    \n",
    "    #완전수를 판별할 숫자가 바뀔 때마다 약수의 합계를 다시 계산해야 하므로 반복이 시작될 때마다 0으로 초기화시킨다.\n",
    "    total = 0 #완전수인가 판별할 수의 자신을 제외한 약수의 합계를 계산하는 변수\n",
    "    #어떤 숫자를 나눠서 떨어뜨릴 수 있는 가장 큰 수는 자신을 제외하면 자신의 절반을 넘어가지 않는다.\n",
    "    k = n // 2\n",
    "    \n",
    "    #안쪽 반복은 n이 완전수인가 판별하기 위해서 자신을 제외한 약수의 합계를 계산한다.\n",
    "    for j in range(1, k + 1):\n",
    "        #완전수인가 판별할 수의 약수를 계산하기 위해 n을 1 ~ k 사이의 숫자로 나눈 나머지를 계산한다.\n",
    "        r = n % j\n",
    "        #n을 j로 나눈 나머지가 0이면 j는 n의 약수이므로 약수의 합계를 계산한다.\n",
    "        if r == 0: #j가 n의 약수인가?\n",
    "            total += j #j가 n의 약수이므로 약수의 합계를 계산한다.\n",
    "        #=== if r == 0\n",
    "    #=== for j\n",
    "    \n",
    " \n",
    "    #n이 완전수인가 판단해서 완전수면 n을 출력하고 완전수의 개수(lm)를 1 증가시킨다.\n",
    "    if n == total: #완전수인가?\n",
    "        lm += 1 #완전수의 개수를 1 증가시킨다.\n",
    "        print('{0}번째 완전수 => {1:4d}'.format(lm, n))\n",
    "    #=== if\n",
    "\n",
    "#====for n\n",
    "print('완전수의 개수는 {}개 입니다.'.format(lm))"
   ]
  }
 ],
 "metadata": {
  "kernelspec": {
   "display_name": "Python 3",
   "language": "python",
   "name": "python3"
  },
  "language_info": {
   "codemirror_mode": {
    "name": "ipython",
    "version": 3
   },
   "file_extension": ".py",
   "mimetype": "text/x-python",
   "name": "python",
   "nbconvert_exporter": "python",
   "pygments_lexer": "ipython3",
   "version": "3.7.6"
  }
 },
 "nbformat": 4,
 "nbformat_minor": 4
}
