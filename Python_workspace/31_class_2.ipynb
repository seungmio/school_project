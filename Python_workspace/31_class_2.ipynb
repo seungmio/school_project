{
 "cells": [
  {
   "cell_type": "code",
   "execution_count": 2,
   "metadata": {},
   "outputs": [
    {
     "name": "stdout",
     "output_type": "stream",
     "text": [
      "3.141592653589793\n"
     ]
    }
   ],
   "source": [
    "import math\n",
    "print(math.pi)"
   ]
  },
  {
   "cell_type": "code",
   "execution_count": 7,
   "metadata": {},
   "outputs": [],
   "source": [
    "#반지름을 인수로 넘겨받아 원의 둘레와 너비를 계산하는 함수를 포함하는 클래스\n",
    "class Circle:\n",
    "    def __init__(self, radius):\n",
    "        self.radius = radius\n",
    "     \n",
    "    def __str__(self):\n",
    "        return '원의 반지름 : {}'.format(self.radius)\n",
    "    \n",
    "    #원의 둘레를 계산해서 출력하는 함수\n",
    "    def getCircum(self):\n",
    "        print('반지름이 {0:.2f}인 원의 둘레는 {1:.2f}입니다.'.format(self.radius, 2 * self.radius * math.pi))\n",
    "    \n",
    "    #원의 너비를 계산해서 출력하는 함수\n",
    "    def getArea(self):\n",
    "        print('반지름이 {0:.2f}인 원의 너비는 {1:.2f}입니다.'.format(self.radius, math.pi * self.radius ** 2))\n",
    "    "
   ]
  },
  {
   "cell_type": "code",
   "execution_count": 11,
   "metadata": {},
   "outputs": [
    {
     "name": "stdout",
     "output_type": "stream",
     "text": [
      "원의 반지름 : 10\n",
      "반지름이 10.00인 원의 둘레는 62.83입니다.\n",
      "반지름이 10.00인 원의 너비는 314.16입니다.\n"
     ]
    }
   ],
   "source": [
    "circle1 = Circle(10)\n",
    "print(circle1)\n",
    "circle1.getCircum()\n",
    "circle1.getArea()"
   ]
  },
  {
   "cell_type": "code",
   "execution_count": 12,
   "metadata": {},
   "outputs": [
    {
     "name": "stdout",
     "output_type": "stream",
     "text": [
      "원의 반지름 : 5\n",
      "반지름이 10.00인 원의 둘레는 62.83입니다.\n",
      "반지름이 10.00인 원의 너비는 314.16입니다.\n"
     ]
    }
   ],
   "source": [
    "circle2 = Circle(5)\n",
    "print(circle2)\n",
    "circle1.getCircum()\n",
    "circle1.getArea()"
   ]
  }
 ],
 "metadata": {
  "kernelspec": {
   "display_name": "Python 3",
   "language": "python",
   "name": "python3"
  },
  "language_info": {
   "codemirror_mode": {
    "name": "ipython",
    "version": 3
   },
   "file_extension": ".py",
   "mimetype": "text/x-python",
   "name": "python",
   "nbconvert_exporter": "python",
   "pygments_lexer": "ipython3",
   "version": "3.7.6"
  }
 },
 "nbformat": 4,
 "nbformat_minor": 4
}
