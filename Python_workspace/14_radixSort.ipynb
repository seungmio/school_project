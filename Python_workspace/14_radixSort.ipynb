{
 "cells": [
  {
   "cell_type": "code",
   "execution_count": 1,
   "metadata": {},
   "outputs": [
    {
     "name": "stdout",
     "output_type": "stream",
     "text": [
      "[[], [], [], [], [], [], [], [], [], []]\n"
     ]
    }
   ],
   "source": [
    "#큐로 사용할 비어있는 2차원 리스트 만들기\n",
    "queueList = [[] for i in range(10)]\n",
    "print(queueList)"
   ]
  },
  {
   "cell_type": "code",
   "execution_count": 4,
   "metadata": {},
   "outputs": [
    {
     "name": "stdout",
     "output_type": "stream",
     "text": [
      "radix : 1\n",
      "n :  19 => 9\n",
      "n :   2 => 2\n",
      "n :  31 => 1\n",
      "n :  45 => 5\n",
      "n :  30 => 0\n",
      "n :  11 => 1\n",
      "n : 121 => 1\n",
      "n :  27 => 7\n",
      "[30, 31, 11, 121, 2, 45, 27, 19]\n",
      "================================================================================\n",
      "radix : 10\n",
      "n :  30 => 3\n",
      "n :  31 => 3\n",
      "n :  11 => 1\n",
      "n : 121 => 2\n",
      "n :   2 => 0\n",
      "n :  45 => 4\n",
      "n :  27 => 2\n",
      "n :  19 => 1\n",
      "[2, 11, 19, 121, 27, 30, 31, 45]\n",
      "================================================================================\n",
      "radix : 100\n",
      "n :   2 => 0\n",
      "n :  11 => 0\n",
      "n :  19 => 0\n",
      "n : 121 => 1\n",
      "n :  27 => 0\n",
      "n :  30 => 0\n",
      "n :  31 => 0\n",
      "n :  45 => 0\n",
      "[2, 11, 19, 27, 30, 31, 45, 121]\n",
      "================================================================================\n",
      "radix : 1000\n",
      "n :   2 => 0\n",
      "n :  11 => 0\n",
      "n :  19 => 0\n",
      "n :  27 => 0\n",
      "n :  30 => 0\n",
      "n :  31 => 0\n",
      "n :  45 => 0\n",
      "n : 121 => 0\n",
      "[2, 11, 19, 27, 30, 31, 45, 121]\n",
      "================================================================================\n"
     ]
    }
   ],
   "source": [
    "data = [19, 2, 31, 45, 30, 11, 121, 27]\n",
    "isSort = False #정렬이 완료되었나 기억하는 변수, True로 변경되면 정렬이 완료됨을 의미한다.\n",
    "radix = 1 #큐에 넣어줄 자리수의 위치를 기억하는 변수, 1 => 10 => 100 => 1000\n",
    "\n",
    "#정렬이 완료될 때까지 반복한다.\n",
    "while not isSort:\n",
    "    isSort = True\n",
    "    #정렬할 숫자와 기수(진법)의 크기만을 큐로 사용할 리스트를 만든다.\n",
    "    queueList = [[] for i in range(10)]\n",
    "    print('radix : {}'.format(radix))\n",
    "    \n",
    "    #정렬할 데이터의 개수만큼 반복하며 데이터를 큐에 넣어준다.\n",
    "    for n in data:\n",
    "        print('n : {0:3d}'.format(n), end = ' => ')\n",
    "        #큐에 넣어줄 자리수에 해당되는 숫자만 뽑아낸다.\n",
    "        digit = n // radix % 10\n",
    "        print(digit)\n",
    "        #큐에 숫자를 넣어준다.\n",
    "        queueList[digit].append(n)\n",
    "        #정렬 작업이 완료되었나 검사한다.\n",
    "        if isSort and digit > 0:\n",
    "            isSort = False\n",
    "    #===for\n",
    "    \n",
    "    #큐에 저장된 데이터를 0번 큐의 데이터부터 차례대로 꺼내서 data 리스트에 다시 저장한다.\n",
    "    index = 0\n",
    "    #queueList에 저장된 0번 큐를 numbers 리스트에 저장한 다음 반복을 시작해서 9번 큐를 numbers 리스트에 저장한 후 반복한\n",
    "    #다음 종료한다.\n",
    "    for numbers in queueList:\n",
    "        #각각의 큐에 해당되는 리스트에 저장된 데이터 개수만큼 반복하며 data 리스트를 수정한다.\n",
    "        for number in numbers:\n",
    "            data[index] = number\n",
    "            index += 1\n",
    "            \n",
    "        #===for\n",
    "    #===for\n",
    "    print(data)\n",
    "    print('=' * 80)\n",
    "    \n",
    "    #다음 자리수를 큐에 넣기 위해서 radix에 저장된 숫자에 10을 곱한다.\n",
    "    radix *= 10\n",
    "#while"
   ]
  }
 ],
 "metadata": {
  "kernelspec": {
   "display_name": "Python 3",
   "language": "python",
   "name": "python3"
  },
  "language_info": {
   "codemirror_mode": {
    "name": "ipython",
    "version": 3
   },
   "file_extension": ".py",
   "mimetype": "text/x-python",
   "name": "python",
   "nbconvert_exporter": "python",
   "pygments_lexer": "ipython3",
   "version": "3.7.6"
  }
 },
 "nbformat": 4,
 "nbformat_minor": 4
}
